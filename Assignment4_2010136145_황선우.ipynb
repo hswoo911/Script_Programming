{
 "cells": [
  {
   "cell_type": "markdown",
   "metadata": {},
   "source": [
    "# Assignment 4 \n",
    "# 2010136145 황선우\n",
    "\n",
    "## 1. 문제 \n",
    "\n",
    "### 1) 파일 s.txt 내의 다음 내용과 함께 아래 문제의 코드를 제시하시오.\n",
    "> pig ham  \n",
    " cat dog  \n",
    " ham bird  \n",
    " dog pig  \n",
    "\n",
    "#### 1-1) 파일 s.txt을 읽어서 각 라인에 있는 첫 번째 단어(문자열) 자체들을 기준으로 라인별 정렬후 파일 s1.txt에 그 결과를 기록하는 코드를 작성하시오. 즉, 프로그램 수행 후 s1.txt에 있는 파일 내용은 다음과 같다.\n",
    "> cat dog  \n",
    " dog pig  \n",
    " ham bird  \n",
    " pig ham"
   ]
  },
  {
   "cell_type": "code",
   "execution_count": 1,
   "metadata": {
    "collapsed": false
   },
   "outputs": [
    {
     "name": "stdout",
     "output_type": "stream",
     "text": [
      "cat dog\n",
      "dog pig\n",
      "ham bird\n",
      "pig ham\n",
      "\n"
     ]
    }
   ],
   "source": [
    "f = open('s.txt')\n",
    "\n",
    "words = []\n",
    "for x in f.xreadlines():\n",
    "    words.append(x) \n",
    "    \n",
    "words.sort()\n",
    "f.close()\n",
    "\n",
    "f = open('s1.txt','w+')\n",
    "f.writelines(words)\n",
    "f.seek(0)\n",
    "print f.read()\n",
    "f.close()"
   ]
  },
  {
   "cell_type": "markdown",
   "metadata": {},
   "source": [
    "#### 1-2) 파일 s.txt을 읽어서 각 라인에 있는 두 번째 단어(문자열) 자체들을 기준으로 라인별 정렬후 파일 s2.txt에 그 결과를 기록하는 코드를 작성하시오. 즉, 프로그램 수행 후 s2.txt에 있는 파일 내용은 다음과 같다.\n",
    ">ham bird  \n",
    " cat dog  \n",
    " pig ham  \n",
    " dog pig"
   ]
  },
  {
   "cell_type": "code",
   "execution_count": 2,
   "metadata": {
    "collapsed": false
   },
   "outputs": [
    {
     "name": "stdout",
     "output_type": "stream",
     "text": [
      "ham bird\n",
      "cat dog\n",
      "pig ham\n",
      "dog pig\n",
      "\n"
     ]
    }
   ],
   "source": [
    "f = open('s.txt')\n",
    "\n",
    "words = []\n",
    "s = f.readline()\n",
    "words.append(s) # 첫 라인은 일단 추가\n",
    "\n",
    "while s:\n",
    "    s = f.readline() \n",
    "    for i in range(len(words)):\n",
    "        if s[s.find(' ')+1:len(s)-1] < words[i][words[i].find(' ')+1:len(words[i])-1]:     # 새로 읽은 라인의 두번째 단어가 리스트에 저장한 단어보다 이른경우\n",
    "            words[i:i] = [s]                                                               # 리스트 해당위치에 끼워넣음\n",
    "            break\n",
    "        if i == len(words)-1 and s[s.find(' ')+1:len(s)-1] > words[i][words[i].find(' ')+1:len(words[i])-1]: # 새 단어를 마지막 단어와 비교하여 새 단어가 더 나중인 경우\n",
    "            words.append(s)                                                                                  # 리스트 마지막에 해당 라인 추가\n",
    "f.close()\n",
    "\n",
    "f = open('s2.txt','w+')\n",
    "f.writelines(words)\n",
    "f.seek(0)\n",
    "print f.read()\n",
    "f.close()"
   ]
  },
  {
   "cell_type": "markdown",
   "metadata": {},
   "source": [
    "#### 1- 3) 파일 s.txt을 읽어서 각 라인들에 있는 모든 단어들을 순차적으로 다시 나열하되 각 라인에 세 개의 단어들이 오도록 하여 s3.txt에 기록하는 코드를 작성하시오. 즉, 프로그램 수행 후 s3.txt에 있는 파일 내용은 다음과 같다.\n",
    ">pig ham cat  \n",
    " dog ham bird  \n",
    " dog pig"
   ]
  },
  {
   "cell_type": "code",
   "execution_count": 3,
   "metadata": {
    "collapsed": false
   },
   "outputs": [
    {
     "name": "stdout",
     "output_type": "stream",
     "text": [
      "pig ham cat\n",
      "dog ham bird\n",
      "dog pig \n"
     ]
    }
   ],
   "source": [
    "f = open('s.txt')\n",
    "\n",
    "words = []\n",
    "for x in f.xreadlines():\n",
    "    words.extend(x.split()) \n",
    "f.close()\n",
    "\n",
    "f = open('s3.txt','a+')\n",
    "for i in range(len(words)):\n",
    "    if (i+1)%3 == 0:\n",
    "        f.write(words[i])\n",
    "        f.write('\\n')\n",
    "    else:\n",
    "        f.write(words[i])\n",
    "        f.write(' ')\n",
    "\n",
    "f.seek(0)\n",
    "print f.read()\n",
    "f.close()"
   ]
  },
  {
   "cell_type": "markdown",
   "metadata": {},
   "source": [
    "### 2) 회원 가입 및 로그인 프로그램을 작성하시오."
   ]
  },
  {
   "cell_type": "code",
   "execution_count": 4,
   "metadata": {
    "collapsed": false
   },
   "outputs": [
    {
     "name": "stderr",
     "output_type": "stream",
     "text": [
      "C:\\Anaconda2\\lib\\site-packages\\ipykernel\\__main__.py:1: DeprecationWarning: the sha module is deprecated; use the hashlib module instead\n",
      "  if __name__ == '__main__':\n"
     ]
    },
    {
     "name": "stdout",
     "output_type": "stream",
     "text": [
      "Welcome to Our Service\n",
      "     1. Sign Up\n",
      "     2. Sign In\n",
      "     3. Quit\n",
      "     \n",
      "Select menu: 4\n",
      "Please select the number correctly\n",
      "\n",
      "Welcome to Our Service\n",
      "     1. Sign Up\n",
      "     2. Sign In\n",
      "     3. Quit\n",
      "     \n",
      "Select menu: 2\n",
      "ID: aaa\n",
      "Sorry, you are not a registered member.\n",
      "\n",
      "Welcome to Our Service\n",
      "     1. Sign Up\n",
      "     2. Sign In\n",
      "     3. Quit\n",
      "     \n",
      "Select menu: 1\n",
      "ID: aaa\n",
      "Password: aaa\n",
      "Name: aaa\n",
      "School: aaa\n",
      "You are now registered as a member.\n",
      "\n",
      "Welcome to Our Service\n",
      "     1. Sign Up\n",
      "     2. Sign In\n",
      "     3. Quit\n",
      "     \n",
      "Select menu: 1\n",
      "ID: aaa\n",
      "Sorry, the entered ID is already used.\n",
      "\n",
      "ID: bbb\n",
      "Password: bbb\n",
      "Name: bbb\n",
      "School: bbb\n",
      "You are now registered as a member.\n",
      "\n",
      "Welcome to Our Service\n",
      "     1. Sign Up\n",
      "     2. Sign In\n",
      "     3. Quit\n",
      "     \n",
      "Select menu: 2\n",
      "ID: aaa\n",
      "Password: aaa\n",
      "Hello  [aaa]!\n",
      "\n",
      "Welcome to Our Service\n",
      "     1. Sign Up\n",
      "     2. Sign In\n",
      "     3. Quit\n",
      "     \n",
      "Select menu: 3\n"
     ]
    }
   ],
   "source": [
    "import sha\n",
    "\n",
    "def menu():\n",
    "    print '''Welcome to Our Service\n",
    "     1. Sign Up\n",
    "     2. Sign In\n",
    "     3. Quit\n",
    "     '''\n",
    "    return input(\"Select menu: \")\n",
    "\n",
    "def idCheck(FILE, user_id):\n",
    "    isIdMatch = False\n",
    "    line = FILE.readline()\n",
    "    while line:                                            \n",
    "        if new_id == line[0:line.find(':')].strip('[]'):      # 입력받은 ID와 파일에 존재하는 ID 비교\n",
    "            isIdMatch = True\n",
    "            break;\n",
    "        else: line = FILE.readline()\n",
    "    return isIdMatch                                          # ID 일치 여부 리턴\n",
    "            \n",
    "while 1:\n",
    "    sel = menu()\n",
    "    if sel == 1:\n",
    "        while 1:\n",
    "            new_id = raw_input(\"ID: \")\n",
    "            f = open('access.txt','a+')\n",
    "            f.seek(0)\n",
    "            isIdMatch = idCheck(f, new_id)\n",
    "            if isIdMatch:\n",
    "                print 'Sorry, the entered ID is already used.\\n'\n",
    "            else: \n",
    "                f.close()\n",
    "                break                  \n",
    "        password_plain = raw_input(\"Password: \")\n",
    "        password_encrypted = sha.new(password_plain).hexdigest()\n",
    "        new_name = raw_input(\"Name: \")\n",
    "        new_school = raw_input(\"School: \")\n",
    "        \n",
    "        f = open('access.txt','a')\n",
    "        f.write('[' + new_id + ']:[' + password_encrypted + '], [' + new_name + '], [' + new_school + ']\\n')\n",
    "        f.close()\n",
    "        print 'You are now registered as a member.\\n'\n",
    "        continue\n",
    "    elif sel == 2:\n",
    "        new_id = raw_input(\"ID: \")\n",
    "        f = open('access.txt','a+')\n",
    "        f.seek(0)\n",
    "        isIdMatch = idCheck(f, new_id)\n",
    "        if isIdMatch == False:\n",
    "            print 'Sorry, you are not a registered member.\\n'            \n",
    "        else:                         # 존재하는 ID일 경우 패스워드 비교\n",
    "            isPassMatch = False\n",
    "            while 1:                \n",
    "                password_plain = raw_input(\"Password: \")\n",
    "                password_encrypted = sha.new(password_plain).hexdigest()\n",
    "                f.seek(0)\n",
    "                line = f.readline()            \n",
    "                while line:         \n",
    "                    if new_id == line[0:line.find(':')].strip('[]'):\n",
    "                        if password_encrypted == line[line.find(':')+1:line.find(',')].strip('[]'):      # ID일치, 패스워드 일치\n",
    "                            print 'Hello ' + line[line.find(',')+1:line.rfind(',')] + '!\\n'\n",
    "                            isPassMatch = True\n",
    "                        break                        \n",
    "                    else: line = f.readline()\n",
    "                if isPassMatch: break\n",
    "            f.close()\n",
    "    elif sel == 3:\n",
    "        break\n",
    "    else:\n",
    "        print 'Please select the number correctly\\n'"
   ]
  },
  {
   "cell_type": "markdown",
   "metadata": {},
   "source": [
    "### 3) range() 함수와 유사한 frange() 함수를 다음 조건을 참고하여 만드시오.\n",
    " - 1) frange()의 인자 구성은 다음과 같이 range와 동일하지만 각 인수들은 음수를 받지 않는다고 가정한다.\n",
    "> range(stop)  \n",
    "range(start, stop[, step])\n",
    "\n",
    " - 2) frange() 함수의 인자에 대한 기본 시작(start) 값은 0.0이고, 기본 단계(step) 값은 0.1이다.\n",
    " - 3) frange 사용 예\n",
    "  - 3-1) frange(0.5)\n",
    "[0.0, 0.1, 0.2, 0.3, 0.4]\n",
    "  - 3-2) frange(1.0, 2.0)\n",
    "[1.0, 1.1, 1.2, 1.3, 1.4, 1.5, 1.6, 1.7, 1.8, 1.9]\n",
    "  - 3-3) frange(2.2, 4.0, 0.5)\n",
    "[2.2, 2.7, 3.2, 3.7]"
   ]
  },
  {
   "cell_type": "code",
   "execution_count": 5,
   "metadata": {
    "collapsed": false
   },
   "outputs": [
    {
     "name": "stdout",
     "output_type": "stream",
     "text": [
      "[0.0, 0.1, 0.2, 0.3, 0.4]\n",
      "[1.0, 1.1, 1.2, 1.3, 1.4, 1.5, 1.6, 1.7, 1.8, 1.9]\n",
      "[2.2, 2.7, 3.2, 3.7]\n"
     ]
    }
   ],
   "source": [
    "def frange(*args):\n",
    "    start = 0.0\n",
    "    step = 0.1\n",
    "    result = []\n",
    "    if len(args) == 1:\n",
    "        stop = args[0]\n",
    "        while start < stop:\n",
    "            result.append(round(start,1))\n",
    "            start += step\n",
    "        return result\n",
    "    if len(args) == 2:\n",
    "        start = args[0]\n",
    "        stop = args[1]\n",
    "        while start < stop:\n",
    "            result.append(round(start,1))\n",
    "            start += step\n",
    "        return result\n",
    "    if len(args) == 3:\n",
    "        start = args[0]\n",
    "        stop = args[1]\n",
    "        step = args[2]\n",
    "        lenth = len(str(step)) - (str(step).find('.') + 1)       # step의 소수점 길이\n",
    "        while start < stop:\n",
    "            result.append(round(start, lenth))\n",
    "            start += step\n",
    "        return result\n",
    "print frange(0.5)\n",
    "print frange(1.0, 2.0)\n",
    "print frange(2.2, 4.0, 0.5)"
   ]
  },
  {
   "cell_type": "markdown",
   "metadata": {},
   "source": [
    "### 4) 가변인수를 받는 함수 sum()을 다음과 같은 조건을 참고하여 구현하시오\n",
    " - sum() 사용 예\n",
    "  - sum()\n",
    "    - 0\n",
    "  - sum(1, 2)\n",
    "    - 3\n",
    "  - sum(1, 2, 3, 4, 5)\n",
    "    - 15\n",
    "  - sum(1, 5, 7, 2, -10)\n",
    "    - 5"
   ]
  },
  {
   "cell_type": "code",
   "execution_count": 6,
   "metadata": {
    "collapsed": false
   },
   "outputs": [
    {
     "name": "stdout",
     "output_type": "stream",
     "text": [
      "0\n",
      "3\n",
      "15\n",
      "5\n"
     ]
    }
   ],
   "source": [
    "def sum(*args):\n",
    "    result = 0\n",
    "    for x in args:\n",
    "        result += x\n",
    "    return result\n",
    "\n",
    "print sum()\n",
    "print sum(1, 2)\n",
    "print sum(1, 2, 3, 4, 5)\n",
    "print sum(1, 5, 7, 2, -10)"
   ]
  },
  {
   "cell_type": "markdown",
   "metadata": {},
   "source": [
    "### 5) 여러 단어로 이루어진 문자열을 입력받아 각 단어의 첫글자로 이루어진 단어를 대문자로 출력하는 myinitial() 함수를 다음 조건을 참고하여 작성하시오.\n",
    " - 1) 다음에 제시되는 함수들을 모두 이용해야 한다.\n",
    "  - split\n",
    "  - map\n",
    "  - join\n",
    " - 2) myinitial() 함수 사용 예\n",
    "  - myinitial(\"as soon as possible\")\n",
    "    - ASAP"
   ]
  },
  {
   "cell_type": "code",
   "execution_count": 7,
   "metadata": {
    "collapsed": false
   },
   "outputs": [
    {
     "name": "stdout",
     "output_type": "stream",
     "text": [
      "ASAP\n"
     ]
    }
   ],
   "source": [
    "def myinitial(string):\n",
    "    words = ''.join(map(str.title, string.split()))\n",
    "    result = ''\n",
    "    for x in words:\n",
    "        if x.isupper():\n",
    "            result += x\n",
    "    return result\n",
    "\n",
    "print myinitial('as soon as possible')"
   ]
  },
  {
   "cell_type": "markdown",
   "metadata": {},
   "source": [
    "### 6) 음이 아닌 정수 n를 입력받으면 n! (factorial)을 계산하는 myfact() 함수를 재귀적 함수로 구현하시오."
   ]
  },
  {
   "cell_type": "code",
   "execution_count": 8,
   "metadata": {
    "collapsed": true
   },
   "outputs": [],
   "source": [
    "def myfact(n):\n",
    "    if n == 1:\n",
    "        return n\n",
    "    return n * myfact(n-1)"
   ]
  },
  {
   "cell_type": "code",
   "execution_count": 9,
   "metadata": {
    "collapsed": false,
    "scrolled": true
   },
   "outputs": [
    {
     "name": "stdout",
     "output_type": "stream",
     "text": [
      "531446595523432843309595655631676286918046700071120401951121139499225260808779708253903734438579590789001567153256499026974532145208122087873643313306238289189070623658269698543016547402779591888649821568947095967496820022015143814991298321623724586736242929731448582724523878255343501096687265376303239361025918751770644401625269318998349491371513845669986016371039203358546775743309263112257802733644515736161158277200593641584468163391031508709255925531720432417399397442586490351189223051857477322232784555620263962080211294980593689348354074642641419065770259997965278766562695474414784029601731032192887853279697168309510321834158868839832160194459232470535773935552828427939438139920174853066256157337475265221413689055659821514620159138737381903471930839173567784984608652338571500836858629834993489420696073770679958505677500706543075458196223232993099866824056061656530375249557266073544002062832304070020854394095599009731571825503710515946245616086467874985327113506815553912665121909211818895457574478120861263240544796953288512737175339519420428515653132585494951810164111095791356148825933936848475005597564646811601043886740810111363317973619287471225594514719384113094057275533464876718487027885994428192751270761270328807798198078494715115050102309625310737791820125680444445664535449858199311172122931539597027016399726415572094543616377441753276166801327868248001066353613627657855132931794234372500578178697171717501684483683436319852820597930849359309611520290156953864688369716277148702264642133369599310927408515520524174389991919208129940512190542284195854452891769732343195225930966414266576044452215306379724595581360970088058225508356818341607443242137454667120300909936562310074286053489832971224543966796565406830553329005029707988433862113152344039405042073966044969105238018192931865625944812435825950091974172074435157791358126665952051058450240785300288120531940144405333610961027397547478369603286969963354599551697570083604071140919952955293539053017619227758643093192832276743328192515465444835252850336693050127801446586017331993048426463712130494517101027942772280353910146890682015563832787826393249564472331961617434770469083563423242370503470449067872272145399337603689464181492554975227074272323172834806543155200000000000000000000000000000000000000000000000000000000000000000000000000000000000000000000000000000000000000000000000000000000000000000000000000000000000000000000000000000000000000000000000000000000000000000000000000000000000000000000000000\n"
     ]
    }
   ],
   "source": [
    "print myfact(976)"
   ]
  },
  {
   "cell_type": "code",
   "execution_count": 10,
   "metadata": {
    "collapsed": false,
    "scrolled": true
   },
   "outputs": [
    {
     "ename": "RuntimeError",
     "evalue": "maximum recursion depth exceeded",
     "output_type": "error",
     "traceback": [
      "\u001b[1;31m---------------------------------------------------------------------------\u001b[0m",
      "\u001b[1;31mRuntimeError\u001b[0m                              Traceback (most recent call last)",
      "\u001b[1;32m<ipython-input-10-c4cfa9c07106>\u001b[0m in \u001b[0;36m<module>\u001b[1;34m()\u001b[0m\n\u001b[1;32m----> 1\u001b[1;33m \u001b[1;32mprint\u001b[0m \u001b[0mmyfact\u001b[0m\u001b[1;33m(\u001b[0m\u001b[1;36m977\u001b[0m\u001b[1;33m)\u001b[0m\u001b[1;33m\u001b[0m\u001b[0m\n\u001b[0m",
      "\u001b[1;32m<ipython-input-8-9c9dbcdace7e>\u001b[0m in \u001b[0;36mmyfact\u001b[1;34m(n)\u001b[0m\n\u001b[0;32m      2\u001b[0m     \u001b[1;32mif\u001b[0m \u001b[0mn\u001b[0m \u001b[1;33m==\u001b[0m \u001b[1;36m1\u001b[0m\u001b[1;33m:\u001b[0m\u001b[1;33m\u001b[0m\u001b[0m\n\u001b[0;32m      3\u001b[0m         \u001b[1;32mreturn\u001b[0m \u001b[0mn\u001b[0m\u001b[1;33m\u001b[0m\u001b[0m\n\u001b[1;32m----> 4\u001b[1;33m     \u001b[1;32mreturn\u001b[0m \u001b[0mn\u001b[0m \u001b[1;33m*\u001b[0m \u001b[0mmyfact\u001b[0m\u001b[1;33m(\u001b[0m\u001b[0mn\u001b[0m\u001b[1;33m-\u001b[0m\u001b[1;36m1\u001b[0m\u001b[1;33m)\u001b[0m\u001b[1;33m\u001b[0m\u001b[0m\n\u001b[0m",
      "... last 1 frames repeated, from the frame below ...\n",
      "\u001b[1;32m<ipython-input-8-9c9dbcdace7e>\u001b[0m in \u001b[0;36mmyfact\u001b[1;34m(n)\u001b[0m\n\u001b[0;32m      2\u001b[0m     \u001b[1;32mif\u001b[0m \u001b[0mn\u001b[0m \u001b[1;33m==\u001b[0m \u001b[1;36m1\u001b[0m\u001b[1;33m:\u001b[0m\u001b[1;33m\u001b[0m\u001b[0m\n\u001b[0;32m      3\u001b[0m         \u001b[1;32mreturn\u001b[0m \u001b[0mn\u001b[0m\u001b[1;33m\u001b[0m\u001b[0m\n\u001b[1;32m----> 4\u001b[1;33m     \u001b[1;32mreturn\u001b[0m \u001b[0mn\u001b[0m \u001b[1;33m*\u001b[0m \u001b[0mmyfact\u001b[0m\u001b[1;33m(\u001b[0m\u001b[0mn\u001b[0m\u001b[1;33m-\u001b[0m\u001b[1;36m1\u001b[0m\u001b[1;33m)\u001b[0m\u001b[1;33m\u001b[0m\u001b[0m\n\u001b[0m",
      "\u001b[1;31mRuntimeError\u001b[0m: maximum recursion depth exceeded"
     ]
    }
   ],
   "source": [
    "print myfact(977)"
   ]
  },
  {
   "cell_type": "markdown",
   "metadata": {},
   "source": [
    "### 7) import string 과 from string import * 의 차이점을 설명하시오."
   ]
  },
  {
   "cell_type": "code",
   "execution_count": 11,
   "metadata": {
    "collapsed": false
   },
   "outputs": [
    {
     "name": "stdout",
     "output_type": "stream",
     "text": [
      "['In', 'Out', '_', '__', '___', '__builtin__', '__builtins__', '__doc__', '__name__', '__package__', '_dh', '_i', '_i1', '_i10', '_i11', '_i2', '_i3', '_i4', '_i5', '_i6', '_i7', '_i8', '_i9', '_ih', '_ii', '_iii', '_oh', '_sh', 'exit', 'f', 'frange', 'get_ipython', 'i', 'idCheck', 'isIdMatch', 'isPassMatch', 'line', 'menu', 'myfact', 'myinitial', 'new_id', 'new_name', 'new_school', 'password_encrypted', 'password_plain', 'quit', 's', 'sel', 'sha', 'string', 'sum', 'words', 'x']\n"
     ]
    }
   ],
   "source": [
    "import string\n",
    "print dir()"
   ]
  },
  {
   "cell_type": "markdown",
   "metadata": {},
   "source": [
    "import string은 import를 수행한 이름공간에서 이름공간 string을 그대로 유지한다. 위의 예를 보면 'string'이라는 이름으로 유지되고 있음을 알 수 있고, 그러므로 string.method()와 같이 string 안에 있는 함수들을 호출해야 한다."
   ]
  },
  {
   "cell_type": "code",
   "execution_count": 12,
   "metadata": {
    "collapsed": false,
    "scrolled": true
   },
   "outputs": [
    {
     "name": "stdout",
     "output_type": "stream",
     "text": [
      "['Formatter', 'In', 'Out', 'Template', '_', '__', '___', '__builtin__', '__builtins__', '__doc__', '__name__', '__package__', '_dh', '_i', '_i1', '_i10', '_i11', '_i12', '_i2', '_i3', '_i4', '_i5', '_i6', '_i7', '_i8', '_i9', '_ih', '_ii', '_iii', '_oh', '_sh', 'ascii_letters', 'ascii_lowercase', 'ascii_uppercase', 'atof', 'atof_error', 'atoi', 'atoi_error', 'atol', 'atol_error', 'capitalize', 'capwords', 'center', 'count', 'digits', 'exit', 'expandtabs', 'f', 'find', 'frange', 'get_ipython', 'hexdigits', 'i', 'idCheck', 'index', 'index_error', 'isIdMatch', 'isPassMatch', 'join', 'joinfields', 'letters', 'line', 'ljust', 'lower', 'lowercase', 'lstrip', 'maketrans', 'menu', 'myfact', 'myinitial', 'new_id', 'new_name', 'new_school', 'octdigits', 'password_encrypted', 'password_plain', 'printable', 'punctuation', 'quit', 'replace', 'rfind', 'rindex', 'rjust', 'rsplit', 'rstrip', 's', 'sel', 'sha', 'split', 'splitfields', 'string', 'strip', 'sum', 'swapcase', 'translate', 'upper', 'uppercase', 'whitespace', 'words', 'x', 'zfill']\n"
     ]
    }
   ],
   "source": [
    "from string import *\n",
    "print dir()"
   ]
  },
  {
   "cell_type": "markdown",
   "metadata": {},
   "source": [
    "반면 from string import * 와 같이 import 했을 때는 현재 이름공간 안에 string 이름공간 안에 있는 '__'로 시작되는 이름들을 제외한 모든 이름들을 현재 이름 공간으로 불러들인다. 따라서 string.method()와 같이 수행할 필요 없이 string모듈 내에 함수 이름을 직접 사용할 수 있다."
   ]
  },
  {
   "cell_type": "markdown",
   "metadata": {},
   "source": [
    "### [프로젝트 오일러 문제 10] 이백만(2,000,000) 이하 소수의 합은 얼마입니까?"
   ]
  },
  {
   "cell_type": "code",
   "execution_count": 13,
   "metadata": {
    "collapsed": false
   },
   "outputs": [
    {
     "name": "stdout",
     "output_type": "stream",
     "text": [
      "142913828922\n"
     ]
    }
   ],
   "source": [
    "import math\n",
    "A = 2   # 사용자가 입력한 숫자까지 1씩 증가하며 소수인지 검사 할 숫자\n",
    "J = 2   # A를 나누는 제수가 저장된 변수, 2부터 A의 제곱근까지 증가한다\n",
    "maxnumber = 2000000\n",
    "result = 0\n",
    "while A <= maxnumber:    \n",
    "    if J <= math.sqrt(A):\n",
    "        if A % J == 0:    # 나누어 떨어지므로 소수가 아님\n",
    "            A += 1        # 다음 숫자 검사를 위해 A를 증가시키고\n",
    "            J = 2         # J는 2로 초기화\n",
    "            continue\n",
    "        else:             # A를 J로 나누어 떨어지지 않으면\n",
    "            J += 1        # 소수일 가능성이 있으므로 J는 1증가\n",
    "            continue\n",
    "    else:                 # J가 A의 제곱근보다 같거나 큰 경우는\n",
    "        result += A       # 위의 조건식을 계속 통과하여 소수로 판별된 경우임\n",
    "        A += 1            # 다음 숫자 검사를 위해 A의 1 증가와\n",
    "        J = 2             # J 초기화\n",
    "print result"
   ]
  },
  {
   "cell_type": "markdown",
   "metadata": {},
   "source": [
    "### [프로젝트 오일러 문제 11] 수평, 수직, 또는 대각선 방향으로 연속된 숫자 네 개의 곱 중 최대값은 얼마입니까?\n",
    ">08 02 22 97 38 15 00 40 00 75 04 05 07 78 52 12 50 77 91 08  \n",
    "49 49 99 40 17 81 18 57 60 87 17 40 98 43 69 48 04 56 62 00  \n",
    "81 49 31 73 55 79 14 29 93 71 40 67 53 88 30 03 49 13 36 65  \n",
    "52 70 95 23 04 60 11 42 69 24 68 56 01 32 56 71 37 02 36 91  \n",
    "22 31 16 71 51 67 63 89 41 92 36 54 22 40 40 28 66 33 13 80  \n",
    "24 47 32 60 99 03 45 02 44 75 33 53 78 36 84 20 35 17 12 50  \n",
    "32 98 81 28 64 23 67 10 26 38 40 67 59 54 70 66 18 38 64 70  \n",
    "67 26 20 68 02 62 12 20 95 63 94 39 63 08 40 91 66 49 94 21  \n",
    "24 55 58 05 66 73 99 26 97 17 78 78 96 83 14 88 34 89 63 72  \n",
    "21 36 23 09 75 00 76 44 20 45 35 14 00 61 33 97 34 31 33 95  \n",
    "78 17 53 28 22 75 31 67 15 94 03 80 04 62 16 14 09 53 56 92  \n",
    "16 39 05 42 96 35 31 47 55 58 88 24 00 17 54 24 36 29 85 57  \n",
    "86 56 00 48 35 71 89 07 05 44 44 37 44 60 21 58 51 54 17 58  \n",
    "19 80 81 68 05 94 47 69 28 73 92 13 86 52 17 77 04 89 55 40  \n",
    "04 52 08 83 97 35 99 16 07 97 57 32 16 26 26 79 33 27 98 66  \n",
    "88 36 68 87 57 62 20 72 03 46 33 67 46 55 12 32 63 93 53 69  \n",
    "04 42 16 73 38 25 39 11 24 94 72 18 08 46 29 32 40 62 76 36  \n",
    "20 69 36 41 72 30 23 88 34 62 99 69 82 67 59 85 74 04 36 16  \n",
    "20 73 35 29 78 31 90 01 74 31 49 71 48 86 81 16 23 57 05 54  \n",
    "01 70 54 71 83 51 54 69 16 92 33 48 61 43 52 01 89 19 67 48  "
   ]
  },
  {
   "cell_type": "code",
   "execution_count": 14,
   "metadata": {
    "collapsed": false
   },
   "outputs": [
    {
     "name": "stdout",
     "output_type": "stream",
     "text": [
      "70600674\n"
     ]
    }
   ],
   "source": [
    "string = '''08 02 22 97 38 15 00 40 00 75 04 05 07 78 52 12 50 77 91 08\n",
    "49 49 99 40 17 81 18 57 60 87 17 40 98 43 69 48 04 56 62 00\n",
    "81 49 31 73 55 79 14 29 93 71 40 67 53 88 30 03 49 13 36 65\n",
    "52 70 95 23 04 60 11 42 69 24 68 56 01 32 56 71 37 02 36 91\n",
    "22 31 16 71 51 67 63 89 41 92 36 54 22 40 40 28 66 33 13 80\n",
    "24 47 32 60 99 03 45 02 44 75 33 53 78 36 84 20 35 17 12 50\n",
    "32 98 81 28 64 23 67 10 26 38 40 67 59 54 70 66 18 38 64 70\n",
    "67 26 20 68 02 62 12 20 95 63 94 39 63 08 40 91 66 49 94 21\n",
    "24 55 58 05 66 73 99 26 97 17 78 78 96 83 14 88 34 89 63 72\n",
    "21 36 23 09 75 00 76 44 20 45 35 14 00 61 33 97 34 31 33 95\n",
    "78 17 53 28 22 75 31 67 15 94 03 80 04 62 16 14 09 53 56 92\n",
    "16 39 05 42 96 35 31 47 55 58 88 24 00 17 54 24 36 29 85 57\n",
    "86 56 00 48 35 71 89 07 05 44 44 37 44 60 21 58 51 54 17 58\n",
    "19 80 81 68 05 94 47 69 28 73 92 13 86 52 17 77 04 89 55 40\n",
    "04 52 08 83 97 35 99 16 07 97 57 32 16 26 26 79 33 27 98 66\n",
    "88 36 68 87 57 62 20 72 03 46 33 67 46 55 12 32 63 93 53 69\n",
    "04 42 16 73 38 25 39 11 24 94 72 18 08 46 29 32 40 62 76 36\n",
    "20 69 36 41 72 30 23 88 34 62 99 69 82 67 59 85 74 04 36 16\n",
    "20 73 35 29 78 31 90 01 74 31 49 71 48 86 81 16 23 57 05 54\n",
    "01 70 54 71 83 51 54 69 16 92 33 48 61 43 52 01 89 19 67 48'''\n",
    "\n",
    "numbers = []                         # 문자열을 공백기준으로 분리하여\n",
    "for x in string.split():             # 리스트에 정수로 변환하여 각각 저장\n",
    "    numbers.append(int(x))\n",
    "    \n",
    "mat = [ [0]*20 for x in range(20)]   # 20 X 20 2차원 배열 초기화\n",
    "\n",
    "n = 0\n",
    "for i in range(20):                  # 2차원 배열에 정수 저장\n",
    "    for j in range(20):\n",
    "        mat[i][j] = numbers[n]\n",
    "        n += 1\n",
    "result = 1\n",
    "\n",
    "for i in range(17):\n",
    "    for j in range(17):\n",
    "        tmp = mat[i][j] * mat[i][j+1] * mat[i][j+2] * mat[i][j+3]       # 수평의 곱\n",
    "        if tmp > result: result = tmp\n",
    "        tmp = mat[i][j] * mat[i+1][j] * mat[i+2][j] * mat[i+3][j]       # 수직의 곱\n",
    "        if tmp > result: result = tmp\n",
    "        tmp = mat[i][j] * mat[i+1][j+1] * mat[i+2][j+2] * mat[i+3][j+3] # \\방향 대각선의 곱\n",
    "        if tmp > result: result = tmp\n",
    "        tmp = mat[i][j+3] * mat[i+1][j+2] * mat[i+2][j+1] * mat[i+3][j] # /방향 대각선의 곱\n",
    "        if tmp > result: result = tmp\n",
    "print result"
   ]
  },
  {
   "cell_type": "markdown",
   "metadata": {},
   "source": [
    "### [프로젝트 오일러 문제 12] 500개 이상의 약수를 갖는 가장 작은 삼각수는 얼마입니까?"
   ]
  },
  {
   "cell_type": "code",
   "execution_count": 15,
   "metadata": {
    "collapsed": false
   },
   "outputs": [
    {
     "name": "stdout",
     "output_type": "stream",
     "text": [
      "76576500\n"
     ]
    }
   ],
   "source": [
    "import math\n",
    "A = 2   # 사용자가 입력한 숫자까지 1씩 증가하며 소수인지 검사 할 숫자\n",
    "J = 2   # A를 나누는 제수가 저장된 변수, 2부터 A의 제곱근까지 증가한다\n",
    "prime = [] # 소수가 저장된 리스트\n",
    "\n",
    "while len(prime) < 500:   \n",
    "    if J <= math.sqrt(A):\n",
    "        if A % J == 0:    # 나누어 떨어지므로 소수가 아님\n",
    "            A += 1        # 다음 숫자 검사를 위해 A를 증가시키고\n",
    "            J = 2         # J는 2로 초기화\n",
    "            continue\n",
    "        else:             # A를 J로 나누어 떨어지지 않으면\n",
    "            J += 1        # 소수일 가능성이 있으므로 J는 1증가\n",
    "            continue\n",
    "    else:                      # 소수로 판별된 경우\n",
    "        prime.append(A)        # 해당 소수를 리스트에 추가\n",
    "        A += 1                 # 다음 숫자 검사를 위해 A의 1 증가와\n",
    "        J = 2                  # J 초기화\n",
    "\n",
    "d = {}                         # {소인수:개수, 소인수:개수, ...}\n",
    "result = n = 1\n",
    "tnum = 0                       # n번째 삼각수\n",
    "while result < 500:            # 약수의 개수가 500이하일 때 까지 반복\n",
    "    del(d)\n",
    "    d = {}\n",
    "    tnum += n                   \n",
    "    tmp = tnum\n",
    "    for x in prime:            # 소수리스트에서 소수를 하나씩 꺼냄\n",
    "        d[x] = 0\n",
    "        while tmp % x == 0:    # 삼각수를 소수로 나누어 떨어지면\n",
    "            d[x] += 1          # 사전에 해당 소수의 개수 1 증가\n",
    "            tmp /= x           # tmp는 해당 소수로 나누어 다음 검사할 수로 만듦\n",
    "        if tmp == 1:\n",
    "            break\n",
    "    n += 1\n",
    "    result = 1\n",
    "    for x in d.values():       # (소인수개수+1)*(소인수개수+1)*....\n",
    "        result *= (x + 1)      # 약수의 개수를 구함\n",
    "            \n",
    "print tnum"
   ]
  },
  {
   "cell_type": "markdown",
   "metadata": {},
   "source": [
    "### [프로젝트 오일러 문제 13] 아래에 50자리 숫자가 100개 있습니다. 이것을 모두 더한 값의 첫 10자리는 얼마입니까?"
   ]
  },
  {
   "cell_type": "code",
   "execution_count": 16,
   "metadata": {
    "collapsed": false
   },
   "outputs": [
    {
     "name": "stdout",
     "output_type": "stream",
     "text": [
      "5537376230\n"
     ]
    }
   ],
   "source": [
    "string = '''37107287533902102798797998220837590246510135740250\n",
    "46376937677490009712648124896970078050417018260538\n",
    "74324986199524741059474233309513058123726617309629\n",
    "91942213363574161572522430563301811072406154908250\n",
    "23067588207539346171171980310421047513778063246676\n",
    "89261670696623633820136378418383684178734361726757\n",
    "28112879812849979408065481931592621691275889832738\n",
    "44274228917432520321923589422876796487670272189318\n",
    "47451445736001306439091167216856844588711603153276\n",
    "70386486105843025439939619828917593665686757934951\n",
    "62176457141856560629502157223196586755079324193331\n",
    "64906352462741904929101432445813822663347944758178\n",
    "92575867718337217661963751590579239728245598838407\n",
    "58203565325359399008402633568948830189458628227828\n",
    "80181199384826282014278194139940567587151170094390\n",
    "35398664372827112653829987240784473053190104293586\n",
    "86515506006295864861532075273371959191420517255829\n",
    "71693888707715466499115593487603532921714970056938\n",
    "54370070576826684624621495650076471787294438377604\n",
    "53282654108756828443191190634694037855217779295145\n",
    "36123272525000296071075082563815656710885258350721\n",
    "45876576172410976447339110607218265236877223636045\n",
    "17423706905851860660448207621209813287860733969412\n",
    "81142660418086830619328460811191061556940512689692\n",
    "51934325451728388641918047049293215058642563049483\n",
    "62467221648435076201727918039944693004732956340691\n",
    "15732444386908125794514089057706229429197107928209\n",
    "55037687525678773091862540744969844508330393682126\n",
    "18336384825330154686196124348767681297534375946515\n",
    "80386287592878490201521685554828717201219257766954\n",
    "78182833757993103614740356856449095527097864797581\n",
    "16726320100436897842553539920931837441497806860984\n",
    "48403098129077791799088218795327364475675590848030\n",
    "87086987551392711854517078544161852424320693150332\n",
    "59959406895756536782107074926966537676326235447210\n",
    "69793950679652694742597709739166693763042633987085\n",
    "41052684708299085211399427365734116182760315001271\n",
    "65378607361501080857009149939512557028198746004375\n",
    "35829035317434717326932123578154982629742552737307\n",
    "94953759765105305946966067683156574377167401875275\n",
    "88902802571733229619176668713819931811048770190271\n",
    "25267680276078003013678680992525463401061632866526\n",
    "36270218540497705585629946580636237993140746255962\n",
    "24074486908231174977792365466257246923322810917141\n",
    "91430288197103288597806669760892938638285025333403\n",
    "34413065578016127815921815005561868836468420090470\n",
    "23053081172816430487623791969842487255036638784583\n",
    "11487696932154902810424020138335124462181441773470\n",
    "63783299490636259666498587618221225225512486764533\n",
    "67720186971698544312419572409913959008952310058822\n",
    "95548255300263520781532296796249481641953868218774\n",
    "76085327132285723110424803456124867697064507995236\n",
    "37774242535411291684276865538926205024910326572967\n",
    "23701913275725675285653248258265463092207058596522\n",
    "29798860272258331913126375147341994889534765745501\n",
    "18495701454879288984856827726077713721403798879715\n",
    "38298203783031473527721580348144513491373226651381\n",
    "34829543829199918180278916522431027392251122869539\n",
    "40957953066405232632538044100059654939159879593635\n",
    "29746152185502371307642255121183693803580388584903\n",
    "41698116222072977186158236678424689157993532961922\n",
    "62467957194401269043877107275048102390895523597457\n",
    "23189706772547915061505504953922979530901129967519\n",
    "86188088225875314529584099251203829009407770775672\n",
    "11306739708304724483816533873502340845647058077308\n",
    "82959174767140363198008187129011875491310547126581\n",
    "97623331044818386269515456334926366572897563400500\n",
    "42846280183517070527831839425882145521227251250327\n",
    "55121603546981200581762165212827652751691296897789\n",
    "32238195734329339946437501907836945765883352399886\n",
    "75506164965184775180738168837861091527357929701337\n",
    "62177842752192623401942399639168044983993173312731\n",
    "32924185707147349566916674687634660915035914677504\n",
    "99518671430235219628894890102423325116913619626622\n",
    "73267460800591547471830798392868535206946944540724\n",
    "76841822524674417161514036427982273348055556214818\n",
    "97142617910342598647204516893989422179826088076852\n",
    "87783646182799346313767754307809363333018982642090\n",
    "10848802521674670883215120185883543223812876952786\n",
    "71329612474782464538636993009049310363619763878039\n",
    "62184073572399794223406235393808339651327408011116\n",
    "66627891981488087797941876876144230030984490851411\n",
    "60661826293682836764744779239180335110989069790714\n",
    "85786944089552990653640447425576083659976645795096\n",
    "66024396409905389607120198219976047599490197230297\n",
    "64913982680032973156037120041377903785566085089252\n",
    "16730939319872750275468906903707539413042652315011\n",
    "94809377245048795150954100921645863754710598436791\n",
    "78639167021187492431995700641917969777599028300699\n",
    "15368713711936614952811305876380278410754449733078\n",
    "40789923115535562561142322423255033685442488917353\n",
    "44889911501440648020369068063960672322193204149535\n",
    "41503128880339536053299340368006977710650566631954\n",
    "81234880673210146739058568557934581403627822703280\n",
    "82616570773948327592232845941706525094512325230608\n",
    "22918802058777319719839450180888072429661980811197\n",
    "77158542502016545090413245809786882778948721859617\n",
    "72107838435069186155435662884062257473692284509516\n",
    "20849603980134001723930671666823555245252804609722\n",
    "53503534226472524250874054075591789781264330331690'''\n",
    "\n",
    "result = 0\n",
    "string = string.split()\n",
    "for x in string:\n",
    "    result += int(x[:11])\n",
    "result = str(result)\n",
    "\n",
    "print result[:10]"
   ]
  },
  {
   "cell_type": "markdown",
   "metadata": {},
   "source": [
    "### [프로젝트 오일러 문제 14] \n",
    "양의 정수 n에 대하여, 다음과 같은 계산 과정을 반복하기로 합니다.\n",
    "\n",
    ">n → n / 2 (n이 짝수일 때)  \n",
    "n → 3 n + 1 (n이 홀수일 때)\n",
    "\n",
    "13에 대하여 위의 규칙을 적용해보면 아래처럼 10번의 과정을 통해 1이 됩니다.\n",
    "\n",
    "13 → 40 → 20 → 10 → 5 → 16 → 8 → 4 → 2 → 1  \n",
    "아직 증명은 되지 않았지만, 이런 과정을 거치면 어떤 수로 시작해도 마지막에는 1로 끝나리라 생각됩니다.  \n",
    "(역주: 이것은 콜라츠 추측 Collatz Conjecture이라고 하며, 이런 수들을 우박수 hailstone sequence라 부르기도 합니다)\n",
    "\n",
    "그러면, 백만(1,000,000) 이하의 수로 시작했을 때 1까지 도달하는데 가장 긴 과정을 거치는 숫자는 얼마입니까?"
   ]
  },
  {
   "cell_type": "code",
   "execution_count": 17,
   "metadata": {
    "collapsed": false
   },
   "outputs": [
    {
     "name": "stdout",
     "output_type": "stream",
     "text": [
      "837799\n"
     ]
    }
   ],
   "source": [
    "d = {}                          # {n:계산횟수}\n",
    "for x in range(999999,0,-2):    # 일반적으로 홀수가 짝수보다 과정이 더 필요할 것으로 가정 홀수만 검사\n",
    "    n = x\n",
    "    d[x] = 0    \n",
    "    while n != 1:\n",
    "        if n % 2 == 0:\n",
    "            n = n / 2\n",
    "            d[x] += 1           # 계산 횟수 증가\n",
    "        else:\n",
    "            n = 3 * n + 1\n",
    "            d[x] += 1           # 계산 횟수 증가\n",
    "            \n",
    "maxn = max(d.values())          # 계산 횟수 중 최대값을 구함\n",
    "for x in d.keys():\n",
    "    if d[x] == maxn:            # 최대값을 가지고 있는 사전의 key값을 구함\n",
    "        print x\n",
    "        break"
   ]
  },
  {
   "cell_type": "markdown",
   "metadata": {},
   "source": [
    "### [프로젝트 오일러 문제 15] 아래와 같은 2 × 2 격자의 왼쪽 위 모서리에서 출발하여 오른쪽 아래 모서리까지 도달하는 길은 모두 6가지가 있습니다 (거슬러 가지는 않기로 합니다).\n",
    "![](https://github.com/hswoo911/Script_Programming/blob/master/p_015.gif?raw=true)\n",
    "### 그러면 20 × 20 격자에는 모두 몇 개의 경로가 있습니까?"
   ]
  },
  {
   "cell_type": "code",
   "execution_count": 18,
   "metadata": {
    "collapsed": false
   },
   "outputs": [
    {
     "name": "stdout",
     "output_type": "stream",
     "text": [
      "137846528820\n"
     ]
    }
   ],
   "source": [
    "mat = [ [0]*21 for x in range(21)]   # 21 X 21 2차원 배열 초기화\n",
    "                                     # 각 원소로 해당 꼭지점 까지 가는 경우의 수를 저장\n",
    "for i in range(0,21):\n",
    "    for j in range(0,21):\n",
    "        if i == 0 or j == 0:         # 위쪽 모서리와 왼쪽 모서리는 1로 초기화\n",
    "            mat[i][j] = 1\n",
    "        else:                        # 나머지 경우는 왼쪽의 경우의 수와 위쪽의 경우의 수를 더함\n",
    "            mat[i][j] = mat[i-1][j] + mat[i][j-1]\n",
    "print mat[20][20]"
   ]
  },
  {
   "cell_type": "markdown",
   "metadata": {
    "collapsed": true
   },
   "source": [
    "### [Incremental Project]\n",
    "### 1) ~ 4)"
   ]
  },
  {
   "cell_type": "code",
   "execution_count": 19,
   "metadata": {
    "collapsed": true
   },
   "outputs": [],
   "source": [
    "import urllib2\n",
    "import string\n",
    "import pickle\n",
    "\n",
    "def WordsCount(url):\n",
    "    source = urllib2.urlopen(url).read()\n",
    "    \n",
    "    # HTML 소스 저장\n",
    "    f = open(url[url.find('//')+2:url.rfind('/')] + '.html','w')\n",
    "    f.write(source)\n",
    "    f.close()\n",
    "    \n",
    "    # 소스로부터 단어 추출\n",
    "    words = []\n",
    "    start = end = 0     # start: 단어의 첫 위치를 가리킴 end: 단어의 끝+1을 가리킴\n",
    "    i = 0\n",
    "    while i < len(source):\n",
    "        if(source[i] == '>'):\n",
    "            start = i + 1\n",
    "        if(source[i] == '<'):\n",
    "            end = i\n",
    "            if(source[i-2:i+1] == '//<'):\n",
    "                while source[i:i+3] != '//]':\n",
    "                    i += 1\n",
    "                i += 2\n",
    "                start = i + 1\n",
    "            elif(source[i+1:i+6] == 'style'):\n",
    "                while source[i:i+8] != '</style>':\n",
    "                    i += 1\n",
    "                i += 7\n",
    "                start = i + 1\n",
    "            elif(source[i+1:i+7] == 'script'):\n",
    "                while source[i:i+9] != '</script>':\n",
    "                    i += 1\n",
    "                i += 8\n",
    "                start = i + 1\n",
    "            elif(source[i+1:i+4] == 'div'):\n",
    "                while source[i:i+4] != '/div':\n",
    "                    i += 1\n",
    "                i += 3\n",
    "                start = i + 1\n",
    "            elif(source[i+1:i+7] == 'iframe'):\n",
    "                while source[i:i+7] != '/iframe':\n",
    "                    i += 1\n",
    "                i += 6\n",
    "                start = i + 1\n",
    "            elif(source[i+1:i+9] == '!doctype' or source[i+1:i+9] == '!DOCTYPE'):\n",
    "                while source[i:i+4] != 'html':\n",
    "                    i += 1\n",
    "                i += 3\n",
    "                start = i + 1\n",
    "            elif(source[i+1] == '!'):            \n",
    "                while source[i:i+3] != '-->':\n",
    "                    i += 1\n",
    "                i += 2\n",
    "                start = i + 1\n",
    "            else:                                              # CSS가 아니라면\n",
    "                tmp = str(source[start:end]).strip().split()   # tmp 변수에 > 다음 문자부터 < 이전 문자까지\n",
    "                for x in range(len(tmp)):                      # 공백 제거 후 공백으로 분리\n",
    "                    words.append(tmp[x])                       # words 리스트에 단어 추가\n",
    "        i += 1\n",
    "\n",
    "    # 워드 리스트에서 특수문자 제거\n",
    "    i = 0\n",
    "    length = len(words)\n",
    "    while i < length:\n",
    "        words[i] = words[i].strip(string.punctuation)\n",
    "        if words[i] == '': \n",
    "            del(words[i])\n",
    "            length -= 1\n",
    "        else:\n",
    "            i += 1\n",
    "    \n",
    "    # 사전에 단어 추가 및 개수 증가\n",
    "    wDict = {}\n",
    "    for x in range(len(words)):\n",
    "        if words[x] not in wDict:\n",
    "            wDict[words[x]] = 1\n",
    "        else:\n",
    "            wDict[words[x]] += 1\n",
    "    \n",
    "    # 영어 불용어 제거\n",
    "    global stopWords\n",
    "    delStopWords(wDict, stopWords)    \n",
    "    \n",
    "    # 결과사전 피클모듈로 저장\n",
    "    Tuple = (url[url.find('//')+2:url.rfind('/')], wDict)\n",
    "    f = open(url[url.find('//')+2:url.rfind('/')] + '.frequency','w')\n",
    "    pickle.dump(Tuple, f)\n",
    "    f.close()\n",
    "    \n",
    "    return wDict # 결과사전 리턴\n",
    "\n",
    "def delStopWords(d, stopWords):\n",
    "    for x in d.keys():\n",
    "        if x in stopWords:\n",
    "            del(d[x])\n",
    "\n",
    "# 파일로부터 영어 불용어 리스트 생성\n",
    "f = open('stop_word_list.txt')\n",
    "stopWords = []\n",
    "for x in f.xreadlines():\n",
    "    if x != '' and x != '\\n':\n",
    "        stopWords.append(x.strip(' \\n'))\n",
    "        stopWords.append(x.strip(' \\n').title())\n",
    "        \n",
    "nytimesDict  = WordsCount('http://www.nytimes.com/')\n",
    "zdnetDict = WordsCount('http://www.zdnet.com/')\n",
    "fpDict = WordsCount('http://foreignpolicy.com/')\n",
    "ewDict = WordsCount('http://www.ew.com/')\n",
    "rsDict = WordsCount('http://www.rollingstone.com/')"
   ]
  },
  {
   "cell_type": "markdown",
   "metadata": {},
   "source": [
    "### 5)"
   ]
  },
  {
   "cell_type": "code",
   "execution_count": 20,
   "metadata": {
    "collapsed": false,
    "scrolled": true
   },
   "outputs": [
    {
     "name": "stdout",
     "output_type": "stream",
     "text": [
      "<www.nytimes.com>\n",
      "'York': 14\n",
      "'Trump': 14\n",
      "'Times': 13\n",
      "\n",
      "<www.zdnet.com>\n",
      "'ZDNet': 13\n",
      "'Log': 4\n",
      "'Alerts': 4\n",
      "\n",
      "<foreignpolicy.com>\n",
      "'Shares': 19\n",
      "'ago': 18\n",
      "'Trump': 11\n",
      "\n",
      "<www.ew.com>\n",
      "'Nov': 11\n",
      "'recap': 11\n",
      "'Aired': 11\n",
      "\n",
      "<www.rollingstone.com>\n",
      "'ago': 50\n",
      "'hours': 38\n",
      "'1': 13\n",
      "\n"
     ]
    }
   ],
   "source": [
    "import operator\n",
    "\n",
    "# frequency 파일들을 객체로 다시 로드\n",
    "def loadDict(url):\n",
    "    f = open(url[url.find('//')+2:url.rfind('/')] + '.frequency')\n",
    "    URL, Dict = pickle.load(f)\n",
    "    f.close()\n",
    "    return URL, Dict\n",
    "\n",
    "# DictList = [(URL, DICT),(URL, DICT), .....]\n",
    "DictList = [] \n",
    "DictList.append(loadDict('http://www.nytimes.com/'))\n",
    "DictList.append(loadDict('http://www.zdnet.com/'))\n",
    "DictList.append(loadDict('http://foreignpolicy.com/'))\n",
    "DictList.append(loadDict('http://www.ew.com/'))\n",
    "DictList.append(loadDict('http://www.rollingstone.com/'))\n",
    "\n",
    "# 사이트별 가장 많이 출현한 단어 3개씩 출력\n",
    "def TopThreeWords(Tuple):\n",
    "    print '<' + Tuple[0] + '>'\n",
    "    i = 0\n",
    "    for key, value in sorted(Tuple[1].items(), key=operator.itemgetter(1), reverse=True): \n",
    "        print \"'\" + key + \"': \" + str(value)\n",
    "        i += 1\n",
    "        if i == 3: break\n",
    "    print\n",
    "    \n",
    "for x in DictList:\n",
    "    TopThreeWords(x)\n"
   ]
  },
  {
   "cell_type": "markdown",
   "metadata": {},
   "source": [
    "### 6)"
   ]
  },
  {
   "cell_type": "code",
   "execution_count": 22,
   "metadata": {
    "collapsed": false
   },
   "outputs": [
    {
     "name": "stdout",
     "output_type": "stream",
     "text": [
      "Search: Donald\n",
      "www.nytimes.com [Similarity]: 6\n",
      "foreignpolicy.com [Similarity]: 2\n",
      "www.rollingstone.com [Similarity]: 1\n",
      "www.zdnet.com [Similarity]: 0\n",
      "www.ew.com [Similarity]: 0\n"
     ]
    }
   ],
   "source": [
    "searchWord = raw_input('Search: ')\n",
    "similarity = {}\n",
    "\n",
    "# 유사도 사전 초기화\n",
    "for x in DictList:\n",
    "    similarity[x[0]] = 0\n",
    "\n",
    "# 유사도 계산    \n",
    "for x in DictList:\n",
    "    if searchWord in x[1].keys():\n",
    "        similarity[x[0]] = x[1][searchWord]\n",
    "\n",
    "# 유사도 기준으로 정렬 후 출력\n",
    "for key, value in sorted(similarity.items(), key=operator.itemgetter(1), reverse=True):\n",
    "    print key,'[Similarity]:',value"
   ]
  },
  {
   "cell_type": "markdown",
   "metadata": {},
   "source": [
    "### 7) 상업적인 완성도 높은 검색 로봇/엔진이 되려면 필요하다고 생각되는 기능들"
   ]
  },
  {
   "cell_type": "markdown",
   "metadata": {},
   "source": [
    "1. 사이트 별 테마를 유지하는 태그를 관리하여 사용자가 입력한 검색어가 단어 유사도 뿐만아니라 어느 테마의 단어인지도 식별. 예를들어 '축구'라는 단어로 검색 했을 때 '스포츠', '구기종목' 등의 태그를 유지하는 사이트를 상위로 나타내 준다.\n",
    "\n",
    "2. 같은 검색어를 검색 했거나 유사한 검색어를 검색한 사용자들이 접속한 사이트들을 많이 접속한 사이트 순으로 나타내 준다.\n",
    "\n",
    "3. 검색어 맞춤법 검사를 통해 자동으로 수정된 검색어로 검색해준다."
   ]
  }
 ],
 "metadata": {
  "anaconda-cloud": {},
  "kernelspec": {
   "display_name": "Python [Root]",
   "language": "python",
   "name": "Python [Root]"
  },
  "language_info": {
   "codemirror_mode": {
    "name": "ipython",
    "version": 2
   },
   "file_extension": ".py",
   "mimetype": "text/x-python",
   "name": "python",
   "nbconvert_exporter": "python",
   "pygments_lexer": "ipython2",
   "version": "2.7.12"
  }
 },
 "nbformat": 4,
 "nbformat_minor": 0
}
