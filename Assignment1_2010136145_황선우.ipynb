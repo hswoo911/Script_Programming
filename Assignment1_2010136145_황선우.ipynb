{
 "cells": [
  {
   "cell_type": "markdown",
   "metadata": {},
   "source": [
    "# Assignment 1 \n",
    "# 2010136145 황선우\n",
    "\n",
    "## 1. 문제 \n",
    "\n",
    "### 1) a=\"Hello Python\" 문자열을 Slicing과 연결 연산자 (+)를 사용하여 \"Python Hello\"로 변경하시오. \n",
    " - [주의] a 변수 자체에 \"Python Hello\" 문자열이 저장되어야 함"
   ]
  },
  {
   "cell_type": "code",
   "execution_count": 2,
   "metadata": {
    "collapsed": false
   },
   "outputs": [
    {
     "name": "stdout",
     "output_type": "stream",
     "text": [
      "Python Hello\n"
     ]
    }
   ],
   "source": [
    "a = \"Hello Python\"\n",
    "a = a[6:len(a)] + a[5] + a[:5]\n",
    "print a"
   ]
  },
  {
   "cell_type": "markdown",
   "metadata": {},
   "source": [
    "### 2) b=\"Hello Python World\" 문자열을 Slicing과 연결 연산자 (+)를 사용하여 \"World Python Hello\"로 변경하시오.\n",
    " - [주의] b 변수 자체에 \"World Python Hello\" 문자열이 저장되어야 함"
   ]
  },
  {
   "cell_type": "code",
   "execution_count": 40,
   "metadata": {
    "collapsed": false
   },
   "outputs": [
    {
     "name": "stdout",
     "output_type": "stream",
     "text": [
      "World Python Hello\n"
     ]
    }
   ],
   "source": [
    "b = \"Hello Python World\"\n",
    "b = b[13::] + b[5] + b[6:13] + b[:5]\n",
    "print b"
   ]
  },
  {
   "cell_type": "markdown",
   "metadata": {},
   "source": [
    "### 3) c=\"Hello\"를 \"olleH\"로 변경하시오\n",
    " - [주의] c 변수 자체에 \"olleH\" 문자열이 저장되어야 함"
   ]
  },
  {
   "cell_type": "code",
   "execution_count": 7,
   "metadata": {
    "collapsed": false
   },
   "outputs": [
    {
     "name": "stdout",
     "output_type": "stream",
     "text": [
      "olleH\n"
     ]
    }
   ],
   "source": [
    "c = \"Hello\"\n",
    "c = c[::-1]\n",
    "print c"
   ]
  },
  {
   "cell_type": "markdown",
   "metadata": {},
   "source": [
    "### 4) s=\"python\"에 대해 다음 문제를 풀어보시오. \n",
    "#### 1. s[0], s[0][0], s[0][0][0]은 각각 어떤 값이 나오는지 확인하고 그 이유를 나름대로 설명해 보시오."
   ]
  },
  {
   "cell_type": "code",
   "execution_count": 37,
   "metadata": {
    "collapsed": false
   },
   "outputs": [
    {
     "name": "stdout",
     "output_type": "stream",
     "text": [
      "p p p\n"
     ]
    }
   ],
   "source": [
    "s = \"python\"\n",
    "print s[0], s[0][0], s[0][0][0]"
   ]
  },
  {
   "cell_type": "markdown",
   "metadata": {},
   "source": [
    "- 문자열 변수[인덱스] 를 수행할 경우 문자열의 해당 인덱스의 문자 하나를 가져오게 된다. 위의 예에서 s[0]을 수행하면 문자 'p'를 가져오게 되고 s[0][0]은 s[0]의 결과인 'p'에서 다시 첫번째 인덱스에 해당하는 결과를 가져오게 되므로 결과값은 동일하게 'p'가 된다. s[0][0][0]도 이와같은 원리로 결과값은 p가 된다. 만약 s[1:4][1]을 수행하면 s[1:4]에 해당하는 \"yth\"를 가져오고 인덱스[1]에 접근하여 't'가 결과값이 될 것이다."
   ]
  },
  {
   "cell_type": "code",
   "execution_count": 38,
   "metadata": {
    "collapsed": false
   },
   "outputs": [
    {
     "name": "stdout",
     "output_type": "stream",
     "text": [
      "t\n"
     ]
    }
   ],
   "source": [
    "print s[1:4][1]"
   ]
  },
  {
   "cell_type": "markdown",
   "metadata": {},
   "source": [
    "#### 2. s[-100], s[100]은 값이 나오는지 에러가 나오는지 확인하고 그 결과에 대한 이유를 나름대로 설명해 보시오."
   ]
  },
  {
   "cell_type": "code",
   "execution_count": 46,
   "metadata": {
    "collapsed": false
   },
   "outputs": [
    {
     "ename": "IndexError",
     "evalue": "string index out of range",
     "output_type": "error",
     "traceback": [
      "\u001b[1;31m---------------------------------------------------------------------------\u001b[0m",
      "\u001b[1;31mIndexError\u001b[0m                                Traceback (most recent call last)",
      "\u001b[1;32m<ipython-input-46-5c4acd734c2b>\u001b[0m in \u001b[0;36m<module>\u001b[1;34m()\u001b[0m\n\u001b[1;32m----> 1\u001b[1;33m \u001b[1;32mprint\u001b[0m \u001b[0ms\u001b[0m\u001b[1;33m[\u001b[0m\u001b[1;33m-\u001b[0m\u001b[1;36m100\u001b[0m\u001b[1;33m]\u001b[0m\u001b[1;33m,\u001b[0m \u001b[0ms\u001b[0m\u001b[1;33m[\u001b[0m\u001b[1;36m100\u001b[0m\u001b[1;33m]\u001b[0m\u001b[1;33m\u001b[0m\u001b[0m\n\u001b[0m",
      "\u001b[1;31mIndexError\u001b[0m: string index out of range"
     ]
    }
   ],
   "source": [
    "print s[-100], s[100]"
   ]
  },
  {
   "cell_type": "markdown",
   "metadata": {},
   "source": [
    "- 에러 내용을 보면 스트링 인덱스의 범위를 넘어갔다고 한다. s에 저장된 \"python\"이라는 문자열의 길이는 6이므로 인덱스는 0 ~ 5까지이고 음수 인덱스의 경우 -1 ~ -6까지다. 따라서 s[-100], s[100]와 같은 인덱스에 접근할 수 없다."
   ]
  },
  {
   "cell_type": "markdown",
   "metadata": {},
   "source": [
    "#### 3. s[-100, 100]은 값이 나오는지 에러가 나오는지 확인하고 그 결과에 대한 이유를 나름대로 설명해 보시오."
   ]
  },
  {
   "cell_type": "code",
   "execution_count": 53,
   "metadata": {
    "collapsed": false
   },
   "outputs": [
    {
     "ename": "TypeError",
     "evalue": "string indices must be integers, not tuple",
     "output_type": "error",
     "traceback": [
      "\u001b[1;31m---------------------------------------------------------------------------\u001b[0m",
      "\u001b[1;31mTypeError\u001b[0m                                 Traceback (most recent call last)",
      "\u001b[1;32m<ipython-input-53-682bda7d6434>\u001b[0m in \u001b[0;36m<module>\u001b[1;34m()\u001b[0m\n\u001b[1;32m----> 1\u001b[1;33m \u001b[1;32mprint\u001b[0m \u001b[0ms\u001b[0m\u001b[1;33m[\u001b[0m\u001b[1;33m-\u001b[0m\u001b[1;36m100\u001b[0m\u001b[1;33m,\u001b[0m \u001b[1;36m100\u001b[0m\u001b[1;33m]\u001b[0m\u001b[1;33m\u001b[0m\u001b[0m\n\u001b[0m",
      "\u001b[1;31mTypeError\u001b[0m: string indices must be integers, not tuple"
     ]
    }
   ],
   "source": [
    "print s[-100, 100]"
   ]
  },
  {
   "cell_type": "markdown",
   "metadata": {},
   "source": [
    "- 에러 내용을 보면 스트링 형식의 인덱스는 튜플이 아닌 정수들이 되어야 한다고 한다. 콤마로 구분된 복수개의 정수는 파이썬에서 튜플로 인식하는것으로 보인다."
   ]
  },
  {
   "cell_type": "markdown",
   "metadata": {},
   "source": [
    "#### 4. s[1:-1]의 결과를 확인하고 그 결과에 대한 이유를 정확하게 설명하시오."
   ]
  },
  {
   "cell_type": "code",
   "execution_count": 54,
   "metadata": {
    "collapsed": false
   },
   "outputs": [
    {
     "name": "stdout",
     "output_type": "stream",
     "text": [
      " ytho\n"
     ]
    }
   ],
   "source": [
    "print s[1:-1]"
   ]
  },
  {
   "cell_type": "markdown",
   "metadata": {},
   "source": [
    "- 슬라이싱 형식: [start(included) : stop(excluded) : step]\n",
    "- 인덱스가 -1경우 문자열의 가장 마지막 문자를 가리킨다. 따라서 s[1:-1]은 문자열의 1번 인덱스부터 마지막문자 이전까지 가져오는것을 의미한다."
   ]
  },
  {
   "cell_type": "markdown",
   "metadata": {},
   "source": [
    "#### 5. s[3:-3]의 결과를 확인하고 그 결과에 대한 이유를 정확하게 설명하시오."
   ]
  },
  {
   "cell_type": "code",
   "execution_count": 55,
   "metadata": {
    "collapsed": false
   },
   "outputs": [
    {
     "name": "stdout",
     "output_type": "stream",
     "text": [
      "\n"
     ]
    }
   ],
   "source": [
    "print s[3:-3]"
   ]
  },
  {
   "cell_type": "markdown",
   "metadata": {},
   "source": [
    "- 슬라이싱 형식의 stop부분은 제외되는데 인덱스 3과 -3이 같은 위치를 가리키고 있으므로 아무것도 출력되지 않는다."
   ]
  },
  {
   "cell_type": "markdown",
   "metadata": {},
   "source": [
    "### 5) for문을 활용하여 1부터 100사이의 홀수를 출력하시오."
   ]
  },
  {
   "cell_type": "code",
   "execution_count": 63,
   "metadata": {
    "collapsed": false
   },
   "outputs": [
    {
     "name": "stdout",
     "output_type": "stream",
     "text": [
      "1 3 5 7 9 11 13 15 17 19 21 23 25 27 29 31 33 35 37 39 41 43 45 47 49 51 53 55 57 59 61 63 65 67 69 71 73 75 77 79 81 83 85 87 89 91 93 95 97 99\n"
     ]
    }
   ],
   "source": [
    "for x in range(1, 101, 2):\n",
    "        print x,"
   ]
  },
  {
   "cell_type": "markdown",
   "metadata": {},
   "source": [
    "### 6) while문을 활용하여 1부터 100사이의 짝수의 합을 계산하여 출력하시오."
   ]
  },
  {
   "cell_type": "code",
   "execution_count": 3,
   "metadata": {
    "collapsed": false
   },
   "outputs": [
    {
     "name": "stdout",
     "output_type": "stream",
     "text": [
      "2550\n"
     ]
    }
   ],
   "source": [
    "result = 0\n",
    "n = 0\n",
    "while n <= 100:\n",
    "    n += 1\n",
    "    if (n % 2) == 0:\n",
    "        result += n\n",
    "else:\n",
    "    print result"
   ]
  },
  {
   "cell_type": "markdown",
   "metadata": {},
   "source": [
    "### 7) 사용자로 부터 임의의 정수를 입력받고, 해당 숫자를 역순으로 출력하는 프로그램을 작성하시오.\n",
    "\n",
    "[실행 예]  \n",
    "  정수를 입력하세요: 3125  \n",
    "  숫자 역순은 5213 입니다."
   ]
  },
  {
   "cell_type": "code",
   "execution_count": 3,
   "metadata": {
    "collapsed": false
   },
   "outputs": [
    {
     "name": "stdout",
     "output_type": "stream",
     "text": [
      "Number: 3125\n",
      "result: 5213\n"
     ]
    }
   ],
   "source": [
    "n = input(\"Number: \")\n",
    "n = str(n)\n",
    "n = n[::-1]\n",
    "n = int(n)\n",
    "print \"result: \" + str(n)"
   ]
  },
  {
   "cell_type": "markdown",
   "metadata": {},
   "source": [
    "### 8) 사용자로 부터 정수를 입력받아서 1부터 그 사이에 존재하는 소수 (Prime number)를 출력하는 파이썬 프로그램을 작성하시오."
   ]
  },
  {
   "cell_type": "code",
   "execution_count": 4,
   "metadata": {
    "collapsed": false
   },
   "outputs": [
    {
     "name": "stdout",
     "output_type": "stream",
     "text": [
      "Number: 113\n",
      "2 3 5 7 11 13 17 19 23 29 31 37 41 43 47 53 59 61 67 71 73 79 83 89 97 101 103 107 109 113\n"
     ]
    }
   ],
   "source": [
    "import math\n",
    "A = 2   # 사용자가 입력한 숫자까지 1씩 증가하며 소수인지 검사 할 숫자\n",
    "J = 2   # A를 나누는 제수가 저장된 변수, 2부터 A의 제곱근까지 증가한다\n",
    "maxnumber = input(\"Number: \")\n",
    "\n",
    "while A <= maxnumber:    \n",
    "    if J <= math.sqrt(A):\n",
    "        if A % J == 0:    # 나누어 떨어지므로 소수가 아님\n",
    "            A += 1        # 다음 숫자 검사를 위해 A를 증가시키고\n",
    "            J = 2         # J는 2로 초기화\n",
    "            continue\n",
    "        else:             # A를 J로 나누어 떨어지지 않으면\n",
    "            J += 1        # 소수일 가능성이 있으므로 J는 1증가\n",
    "            continue\n",
    "    else:                 # J가 A의 제곱근보다 같거나 큰 경우는\n",
    "        print A,          # 위의 조건식을 계속 통과하여 소수로 판별된 경우임\n",
    "        A += 1            # 다음 숫자 검사를 위해 A의 1 증가와\n",
    "        J = 2             # J 초기화"
   ]
  },
  {
   "cell_type": "markdown",
   "metadata": {
    "collapsed": true
   },
   "source": [
    "### 9) 1000보다 작은 자연수 중에서 3 또는 5의 배수를 모두 더하면?"
   ]
  },
  {
   "cell_type": "code",
   "execution_count": 4,
   "metadata": {
    "collapsed": false
   },
   "outputs": [
    {
     "name": "stdout",
     "output_type": "stream",
     "text": [
      "233168\n"
     ]
    }
   ],
   "source": [
    "result = 0;\n",
    "for x in range(1,1000):\n",
    "    if x % 3 == 0 or x % 5 == 0:\n",
    "        result += x\n",
    "print result"
   ]
  },
  {
   "cell_type": "markdown",
   "metadata": {},
   "source": [
    "### 10) 피보나치 수열에서 4백만 이하이면서 짝수인 항의 합"
   ]
  },
  {
   "cell_type": "code",
   "execution_count": 5,
   "metadata": {
    "collapsed": false
   },
   "outputs": [
    {
     "name": "stdout",
     "output_type": "stream",
     "text": [
      "4613732\n"
     ]
    }
   ],
   "source": [
    "result = 0\n",
    "i = 0         # 수열의 이전 인덱스\n",
    "j = 1         # 수열의 다음 인덱스\n",
    "Fib = [0,1]   # 피보나치 수열 초기화\n",
    "nextNum = 1   # 수열의 다음 항의 수\n",
    "\n",
    "# 4백만 이하의 피보나치 수열 생성\n",
    "while nextNum <= 4000000:\n",
    "    Fib.append(nextNum)       # 수열에 다음 항 추가\n",
    "    i += 1                    # 그 다음 항을 구하기위해\n",
    "    j += 1                    # i와 j의 인덱스를 1씩 증가\n",
    "    if nextNum % 2 == 0:      # 추가된 항이 짝수인경우 \n",
    "        result += nextNum     # 결과값에 더함\n",
    "    nextNum = Fib[i] + Fib[j] # 다음 항 저장\n",
    "\n",
    "print result"
   ]
  },
  {
   "cell_type": "markdown",
   "metadata": {},
   "source": [
    "### 11) 600851475143의 소인수 중에서 가장 큰 수 구하기"
   ]
  },
  {
   "cell_type": "code",
   "execution_count": 1,
   "metadata": {
    "collapsed": false,
    "scrolled": true
   },
   "outputs": [
    {
     "name": "stdout",
     "output_type": "stream",
     "text": [
      "6857\n"
     ]
    }
   ],
   "source": [
    "import math\n",
    "A = 2   # 사용자가 입력한 숫자까지 1씩 증가하며 소수인지 검사 할 숫자\n",
    "J = 2   # A를 나누는 제수가 저장된 변수, 2부터 A의 제곱근까지 증가한다\n",
    "maxnumber = 600851475143\n",
    "\n",
    "while A <= math.sqrt(maxnumber):    # maxnumber의 제곱근보다 큰 수로 나누지 않아도 됨\n",
    "    if J <= math.sqrt(A):\n",
    "        if A % J == 0:    # 나누어 떨어지므로 소수가 아님\n",
    "            A += 1        # 다음 숫자 검사를 위해 A를 증가시키고\n",
    "            J = 2         # J는 2로 초기화\n",
    "            continue\n",
    "        else:             # A를 J로 나누어 떨어지지 않으면\n",
    "            J += 1        # 소수일 가능성이 있으므로 J는 1증가\n",
    "            continue\n",
    "    else:                      # 소수로 판별된 경우\n",
    "        if maxnumber % A == 0: # 주어진 수를 판별한 소수로 나누어 나머지가 0인 경우 소인수임\n",
    "            result = A         # 해당 소수를 결과에 저장\n",
    "        A += 1                 # 다음 숫자 검사를 위해 A의 1 증가와\n",
    "        J = 2                  # J 초기화\n",
    "\n",
    "print result"
   ]
  },
  {
   "cell_type": "markdown",
   "metadata": {},
   "source": [
    "## 2. 소감\n",
    "- 아직 파이썬이 익숙치 않아 보다 간결하게 코드를 짜지 못한 것 같다. 특히 마지막 문제를 풀어보니, 내가 작성한 코드가 결과값을 도출하는 시간이 생각보다 매우 오래 걸렸다. 정답을 맞춘 후 프로젝트 오일러에서 다른 사람들이 파이썬으로 작성한 코드를 보니 길이도 짧을 뿐만 아니라 실행시간도 아주 짧았다. 알고리즘 수업을 수강했지만 이론적으로 배운것들을 실제로 활용하는 것이 많지 않아 이번 학기동안 프로젝트 오일러의 문제를 풀어보는 것이 프로그래밍 실력을 높이는데 많은 도움이 될 것 같다.\n"
   ]
  }
 ],
 "metadata": {
  "anaconda-cloud": {},
  "kernelspec": {
   "display_name": "Python [Root]",
   "language": "python",
   "name": "Python [Root]"
  },
  "language_info": {
   "codemirror_mode": {
    "name": "ipython",
    "version": 2
   },
   "file_extension": ".py",
   "mimetype": "text/x-python",
   "name": "python",
   "nbconvert_exporter": "python",
   "pygments_lexer": "ipython2",
   "version": "2.7.12"
  }
 },
 "nbformat": 4,
 "nbformat_minor": 0
}
