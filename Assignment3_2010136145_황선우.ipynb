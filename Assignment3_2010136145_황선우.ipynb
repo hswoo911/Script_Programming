{
 "cells": [
  {
   "cell_type": "markdown",
   "metadata": {},
   "source": [
    "# Assignment 3 \n",
    "# 2010136145 황선우\n",
    "\n",
    "## 1. 문제 \n",
    "\n",
    "### 1) L=[1, 2, 3, 4, 5]일 때 다음 각 문장을 수행한 후의 결과를 보고 납득할 만한 이유를 설명하시오.\n",
    "- L[1:3] = [100]  \n",
    "  print L"
   ]
  },
  {
   "cell_type": "code",
   "execution_count": 1,
   "metadata": {
    "collapsed": false
   },
   "outputs": [
    {
     "name": "stdout",
     "output_type": "stream",
     "text": [
      "[1, 100, 4, 5]\n"
     ]
    }
   ],
   "source": [
    "L=[1, 2, 3, 4, 5]\n",
    "L[1:3] = [100]\n",
    "print L"
   ]
  },
  {
   "cell_type": "markdown",
   "metadata": {},
   "source": [
    "lvalue인 L[1:3]을 수행하면 리스트의 1~2번째 위치를 확보하고 리스트 [100]과 해당위치가 치환되게 된다. L[0] = [100]과 같은 식은 해당 인덱스에 대입한 값을 하나의 원소로보고 대입하여 이러한 [[100], 2, 3, 4, 5] 리스트를 만들지만 lvalue에 슬라이싱 연산자를 사용하면 위와같이 치환되게 된다."
   ]
  },
  {
   "cell_type": "markdown",
   "metadata": {},
   "source": [
    "- L[1:3] = [(100)]  \n",
    "  print L"
   ]
  },
  {
   "cell_type": "code",
   "execution_count": 2,
   "metadata": {
    "collapsed": false
   },
   "outputs": [
    {
     "name": "stdout",
     "output_type": "stream",
     "text": [
      "[1, 100, 5]\n"
     ]
    }
   ],
   "source": [
    "L[1:3] = [(100)]\n",
    "print L"
   ]
  },
  {
   "cell_type": "markdown",
   "metadata": {},
   "source": [
    "[(100)]은 [100]과 동일한 리스트이기때문에 첫번째 예와 동일한 동작을 수행한다.  \n",
    "[1, 100, 5]의 1~2번째 위치에 [100] 치환."
   ]
  },
  {
   "cell_type": "markdown",
   "metadata": {},
   "source": [
    " - L[1:3] = 100  \n",
    "  print L"
   ]
  },
  {
   "cell_type": "code",
   "execution_count": 3,
   "metadata": {
    "collapsed": false
   },
   "outputs": [
    {
     "ename": "TypeError",
     "evalue": "can only assign an iterable",
     "output_type": "error",
     "traceback": [
      "\u001b[1;31m---------------------------------------------------------------------------\u001b[0m",
      "\u001b[1;31mTypeError\u001b[0m                                 Traceback (most recent call last)",
      "\u001b[1;32m<ipython-input-3-7022eb7546ec>\u001b[0m in \u001b[0;36m<module>\u001b[1;34m()\u001b[0m\n\u001b[1;32m----> 1\u001b[1;33m \u001b[0mL\u001b[0m\u001b[1;33m[\u001b[0m\u001b[1;36m1\u001b[0m\u001b[1;33m:\u001b[0m\u001b[1;36m3\u001b[0m\u001b[1;33m]\u001b[0m \u001b[1;33m=\u001b[0m \u001b[1;36m100\u001b[0m\u001b[1;33m\u001b[0m\u001b[0m\n\u001b[0m\u001b[0;32m      2\u001b[0m \u001b[1;32mprint\u001b[0m \u001b[0mL\u001b[0m\u001b[1;33m\u001b[0m\u001b[0m\n",
      "\u001b[1;31mTypeError\u001b[0m: can only assign an iterable"
     ]
    }
   ],
   "source": [
    "L[1:3] = 100\n",
    "print L"
   ]
  },
  {
   "cell_type": "markdown",
   "metadata": {},
   "source": [
    "에러내용을 보면 iterable한 객체만 할당할 수 있다고 한다. iterable한 객체는 반복가능한 객체로 List, Set, Dictionary, Tuple등을 말한다."
   ]
  },
  {
   "cell_type": "markdown",
   "metadata": {},
   "source": [
    " - L[1:3] = (100)  \n",
    "  print L"
   ]
  },
  {
   "cell_type": "code",
   "execution_count": 4,
   "metadata": {
    "collapsed": false
   },
   "outputs": [
    {
     "ename": "TypeError",
     "evalue": "can only assign an iterable",
     "output_type": "error",
     "traceback": [
      "\u001b[1;31m---------------------------------------------------------------------------\u001b[0m",
      "\u001b[1;31mTypeError\u001b[0m                                 Traceback (most recent call last)",
      "\u001b[1;32m<ipython-input-4-54490223b91a>\u001b[0m in \u001b[0;36m<module>\u001b[1;34m()\u001b[0m\n\u001b[1;32m----> 1\u001b[1;33m \u001b[0mL\u001b[0m\u001b[1;33m[\u001b[0m\u001b[1;36m1\u001b[0m\u001b[1;33m:\u001b[0m\u001b[1;36m3\u001b[0m\u001b[1;33m]\u001b[0m \u001b[1;33m=\u001b[0m \u001b[1;33m(\u001b[0m\u001b[1;36m100\u001b[0m\u001b[1;33m)\u001b[0m\u001b[1;33m\u001b[0m\u001b[0m\n\u001b[0m\u001b[0;32m      2\u001b[0m \u001b[1;32mprint\u001b[0m \u001b[0mL\u001b[0m\u001b[1;33m\u001b[0m\u001b[0m\n",
      "\u001b[1;31mTypeError\u001b[0m: can only assign an iterable"
     ]
    }
   ],
   "source": [
    "L[1:3] = (100)\n",
    "print L"
   ]
  },
  {
   "cell_type": "markdown",
   "metadata": {},
   "source": [
    "마찬가지로 (100)의 타입은 정수이므로 iterable하지 않다."
   ]
  },
  {
   "cell_type": "markdown",
   "metadata": {},
   "source": [
    " - L[1:3] = (100, 101, 102)  \n",
    "  print L"
   ]
  },
  {
   "cell_type": "code",
   "execution_count": 5,
   "metadata": {
    "collapsed": false
   },
   "outputs": [
    {
     "name": "stdout",
     "output_type": "stream",
     "text": [
      "[1, 100, 101, 102]\n"
     ]
    }
   ],
   "source": [
    "L[1:3] = (100, 101, 102)\n",
    "print L"
   ]
  },
  {
   "cell_type": "markdown",
   "metadata": {},
   "source": [
    "[1, 100, 5]의 1~2번째 위치와 튜플(100, 101, 102)가 치환된다."
   ]
  },
  {
   "cell_type": "markdown",
   "metadata": {},
   "source": [
    " - L[1:3] = [100, 101, 102]  \n",
    "  print L"
   ]
  },
  {
   "cell_type": "code",
   "execution_count": 6,
   "metadata": {
    "collapsed": false
   },
   "outputs": [
    {
     "name": "stdout",
     "output_type": "stream",
     "text": [
      "[1, 100, 101, 102, 102]\n"
     ]
    }
   ],
   "source": [
    "L[1:3] = [100, 101, 102]\n",
    "print L"
   ]
  },
  {
   "cell_type": "markdown",
   "metadata": {},
   "source": [
    "[1, 100, 101, 102]의 100, 101 자리와 100, 101, 102가 치환된다."
   ]
  },
  {
   "cell_type": "markdown",
   "metadata": {},
   "source": [
    " - L[1:3] = [(100, 101, 102)]  \n",
    "  print L"
   ]
  },
  {
   "cell_type": "code",
   "execution_count": 7,
   "metadata": {
    "collapsed": false
   },
   "outputs": [
    {
     "name": "stdout",
     "output_type": "stream",
     "text": [
      "[1, (100, 101, 102), 102, 102]\n"
     ]
    }
   ],
   "source": [
    "L[1:3] = [(100, 101, 102)]\n",
    "print L"
   ]
  },
  {
   "cell_type": "markdown",
   "metadata": {},
   "source": [
    "원소로 튜플을 가지고 있기때문에 1~2번째 위치를 확보하고 해당 튜플이 들어간다."
   ]
  },
  {
   "cell_type": "markdown",
   "metadata": {},
   "source": [
    " - L[1:3] = [[100, 101, 102]]  \n",
    "  print L"
   ]
  },
  {
   "cell_type": "code",
   "execution_count": 8,
   "metadata": {
    "collapsed": false
   },
   "outputs": [
    {
     "name": "stdout",
     "output_type": "stream",
     "text": [
      "[1, [100, 101, 102], 102]\n"
     ]
    }
   ],
   "source": [
    "L[1:3] = [[100, 101, 102]]\n",
    "print L"
   ]
  },
  {
   "cell_type": "markdown",
   "metadata": {},
   "source": [
    "원소로 리스트를 가지고 있기때문에 1~2번째 위치를 확보하고 해당 튜플이 들어간다."
   ]
  },
  {
   "cell_type": "markdown",
   "metadata": {},
   "source": [
    "### 2) 문자열 S = 'Hello World and Python'에 대해 다음 요구사항에 대한 Python 코드를 제시하시오.\n",
    " - 1) 단어의 순서가 역순으로 되어진 문자열 ('Python and World Hello')을 만들고\n",
    " - 2) 1)의 결과 문자열에 대해 메소드 split과 join을 이용하여 공백을 모두 없엔 문자열 'PythonandWorldHello'을 만드시오."
   ]
  },
  {
   "cell_type": "code",
   "execution_count": 9,
   "metadata": {
    "collapsed": false
   },
   "outputs": [
    {
     "name": "stdout",
     "output_type": "stream",
     "text": [
      "PythonandWorldHello\n"
     ]
    }
   ],
   "source": [
    "s = 'Hello World and Python'\n",
    "s = s.split()\n",
    "tmp = ''\n",
    "for w in range(len(s)-1, -1, -1):\n",
    "    if w != 0: tmp += s[w] + ' '\n",
    "    else: tmp += s[w]\n",
    "s = tmp\n",
    "s = s.split()\n",
    "s = ''.join(s)\n",
    "print s"
   ]
  },
  {
   "cell_type": "markdown",
   "metadata": {},
   "source": [
    "### 3) 다음 코드를 보고 물음에 답하시오.\n",
    "  a = [1, 2, 3]  \n",
    "  b = a * 3  \n",
    "  c = [a] * 3  \n",
    "  print b  \n",
    "  print c"
   ]
  },
  {
   "cell_type": "markdown",
   "metadata": {
    "collapsed": false
   },
   "source": [
    " - 1) 위 코드를 수행한 이후 다음 코드를 수행한 후 b와 c의 내용을 확인하시오.  \n",
    "  a[0]=0"
   ]
  },
  {
   "cell_type": "code",
   "execution_count": 11,
   "metadata": {
    "collapsed": false
   },
   "outputs": [
    {
     "name": "stdout",
     "output_type": "stream",
     "text": [
      "[1, 2, 3, 1, 2, 3, 1, 2, 3]\n",
      "[[1, 2, 3], [1, 2, 3], [1, 2, 3]]\n",
      "\n",
      "[1, 2, 3, 1, 2, 3, 1, 2, 3]\n",
      "[[0, 2, 3], [0, 2, 3], [0, 2, 3]]\n"
     ]
    }
   ],
   "source": [
    "a = [1, 2, 3]  \n",
    "\n",
    "b = a * 3  \n",
    "c = [a] * 3  \n",
    "print b  \n",
    "print c\n",
    "a[0]=0\n",
    "print\n",
    "print b  \n",
    "print c"
   ]
  },
  {
   "cell_type": "markdown",
   "metadata": {
    "collapsed": false
   },
   "source": [
    "2) b와 c 객체의 차이는 무엇인가?"
   ]
  },
  {
   "cell_type": "markdown",
   "metadata": {},
   "source": [
    "b는 a리스트를 3번 반복한 결과를 유지하는 객체  \n",
    "c는 a리스트를 가지고 있는 리스트를 3번 반복한 결과를 유지하는 객체  \n",
    "두 객체 모두 a의 레퍼런스를 가지고 있기 때문에 a의 원소가 바뀌면 두 객체 모두 영향을 받는다."
   ]
  },
  {
   "cell_type": "markdown",
   "metadata": {
    "collapsed": false
   },
   "source": [
    "### 4) 다음 문자열을 ':'을 기준으로 분리하여 리스트로 만들고 각 문자열의 좌우 공백을 제거하시오 (즉, 문자열 S에서 l을 만들어라)\n",
    "s = '  first star   :   second star   :    third star  '  \n",
    "  l = ['first star', 'second star', 'third star']  \n",
    " - 1) for ~ in 문을 이용한 코드를 작성하시오."
   ]
  },
  {
   "cell_type": "code",
   "execution_count": 16,
   "metadata": {
    "collapsed": false
   },
   "outputs": [
    {
     "name": "stdout",
     "output_type": "stream",
     "text": [
      "['first star', 'second star', 'third star']\n"
     ]
    }
   ],
   "source": [
    "s = ' first star : second star : third star '\n",
    "s = s.split(':')\n",
    "l = []\n",
    "for i in range(len(s)):\n",
    "    l.append(s[i].strip())\n",
    "print l"
   ]
  },
  {
   "cell_type": "markdown",
   "metadata": {},
   "source": [
    " - 2) 리스트 내포(list comprehension)를 이용한 코드를 작성하시오."
   ]
  },
  {
   "cell_type": "code",
   "execution_count": 18,
   "metadata": {
    "collapsed": false
   },
   "outputs": [
    {
     "name": "stdout",
     "output_type": "stream",
     "text": [
      "['first star', 'second star', 'third star']\n"
     ]
    }
   ],
   "source": [
    "s = ' first star : second star : third star '\n",
    "s = s.split(':')\n",
    "l = [s[i].strip() for i in range(len(s))]\n",
    "print l"
   ]
  },
  {
   "cell_type": "markdown",
   "metadata": {
    "collapsed": true
   },
   "source": [
    "### 5) 다음과 같이 0보다 큰 정수 리스트 변수 list를 인자로 받는 함수 addall(list)와 addallodd(list)를 for ~ in 리터널과 리스트 내포 방식으로 각각 제시하시오."
   ]
  },
  {
   "cell_type": "markdown",
   "metadata": {},
   "source": [
    " - 1) addall(list) 함수 (리스트 내의 모든 정수를 더하는 함수로서 해답으로는 for ~ in 리터럴과 리스트 내포 방식으로 각각 제시하시오.)  \n",
    "          >>> addall([1])  \n",
    "              1  \n",
    "          >>> addall([1, 2, 3, 4, 5, 6, 7, 8, 9])  \n",
    "              45"
   ]
  },
  {
   "cell_type": "code",
   "execution_count": 22,
   "metadata": {
    "collapsed": false
   },
   "outputs": [
    {
     "name": "stdout",
     "output_type": "stream",
     "text": [
      "45\n"
     ]
    }
   ],
   "source": [
    "def addall(list):\n",
    "    n = 0;\n",
    "    for x in range(len(list)):\n",
    "        n += list[x]\n",
    "    return n\n",
    "print addall([1,2,3,4,5,6,7,8,9])"
   ]
  },
  {
   "cell_type": "code",
   "execution_count": 32,
   "metadata": {
    "collapsed": false
   },
   "outputs": [
    {
     "name": "stdout",
     "output_type": "stream",
     "text": [
      "45\n"
     ]
    }
   ],
   "source": [
    "def addall(list):\n",
    "    return sum([x for x in list])\n",
    "print addall([1,2,3,4,5,6,7,8,9])"
   ]
  },
  {
   "cell_type": "markdown",
   "metadata": {},
   "source": [
    " - 2) addallodd(list) 함수 (리스트내의 모든 홀수를 더하는 함수로서 해답으로는 for ~ in 리터럴과 리스트 내포 방식으로 각각 제시하시오.)"
   ]
  },
  {
   "cell_type": "code",
   "execution_count": 35,
   "metadata": {
    "collapsed": false
   },
   "outputs": [
    {
     "name": "stdout",
     "output_type": "stream",
     "text": [
      "25\n"
     ]
    }
   ],
   "source": [
    "def addallodd(list):\n",
    "    n = 0;\n",
    "    for x in range(0,len(list),2):\n",
    "        n += list[x]\n",
    "    return n\n",
    "print addallodd([1,2,3,4,5,6,7,8,9])"
   ]
  },
  {
   "cell_type": "code",
   "execution_count": 37,
   "metadata": {
    "collapsed": false
   },
   "outputs": [
    {
     "name": "stdout",
     "output_type": "stream",
     "text": [
      "25\n"
     ]
    }
   ],
   "source": [
    "def addallodd(list):\n",
    "    return sum([list[x] for x in range(0,len(list),2)])\n",
    "print addallodd([1,2,3,4,5,6,7,8,9])"
   ]
  },
  {
   "cell_type": "markdown",
   "metadata": {},
   "source": [
    "### 6) 다음 코드를 보고 물음에 답하시오."
   ]
  },
  {
   "cell_type": "code",
   "execution_count": 33,
   "metadata": {
    "collapsed": false
   },
   "outputs": [
    {
     "name": "stdout",
     "output_type": "stream",
     "text": [
      "{'high': [4, 5, 6], 'low': [1, 2, 3]}\n",
      "{'high': [4, 5, 6], 'low': [1, 2, 3]}\n",
      "{'high': [4, 5, 6], 'low': [1, 2, 3]}\n",
      "\n",
      "{'high': [4, 500, 6], 'low': [10, 20, 30]}\n",
      "{'high': [4, 500, 6], 'low': [10, 20, 30]}\n",
      "{'high': [4, 500, 6], 'low': [1, 2, 3]}\n"
     ]
    }
   ],
   "source": [
    "L1 = [1, 2, 3]  \n",
    "L2 = [4, 5, 6]  \n",
    "d = {'low':L1, 'high':L2}  \n",
    "e = d  \n",
    "f = d.copy()  \n",
    "print d  \n",
    "print e  \n",
    "print f  \n",
    "print  \n",
    "d['low'] = [10, 20, 30]  \n",
    "d['high'][1] = 500  \n",
    "print d  \n",
    "print e  \n",
    "print f"
   ]
  },
  {
   "cell_type": "markdown",
   "metadata": {},
   "source": [
    " - 1) 위 코드의 수행 결과 d와 e는 항상 같은 결과를 출력한다. 그 이유는 무엇인가?"
   ]
  },
  {
   "cell_type": "markdown",
   "metadata": {},
   "source": []
  },
  {
   "cell_type": "markdown",
   "metadata": {},
   "source": [
    " - 2) 위 코드의 수행 결과 마지막 f의 내용은 다음과 같다. 이 때 'high' 키의 값 내용 중 500이 출력된 이유와 'low' 키의 값 내용 중 [1, 2, 3]이 출력된 이유를 설명하시오 ([hint]: shallow copy 관점에서 설명하시오.)\n",
    "                    {'high': [4, 500, 6], 'low': [1, 2, 3]}"
   ]
  },
  {
   "cell_type": "markdown",
   "metadata": {},
   "source": []
  },
  {
   "cell_type": "markdown",
   "metadata": {},
   "source": [
    "### 7) 사전 d = {'one':1, 'two':2, 'three':3, 'four':4, 'five':5}가 주어졌을 때 다음 요구사항에 맞는 코드를 제시하시오\n",
    " - [참고]: d.keys(), d.values()를 통해 리스트를 얻어낸 후 리스트가 지니고 있는 sort(cmp=None, key=None, reverse=False)함수를 활용하시오."
   ]
  },
  {
   "cell_type": "markdown",
   "metadata": {},
   "source": [
    " - 1) 키의 알파벳 오름차순 순서대로 튜플 (키, 값)을 차례대로 출력하시오."
   ]
  },
  {
   "cell_type": "code",
   "execution_count": 53,
   "metadata": {
    "collapsed": false
   },
   "outputs": [
    {
     "name": "stdout",
     "output_type": "stream",
     "text": [
      "five 5\n",
      "four 4\n",
      "one 1\n",
      "three 3\n",
      "two 2\n"
     ]
    }
   ],
   "source": [
    "d = {'one':1, 'two':2, 'three':3, 'four':4, 'five':5}\n",
    "keys = d.keys()\n",
    "keys.sort()\n",
    "for i in keys:\n",
    "    print i, d[i]"
   ]
  },
  {
   "cell_type": "markdown",
   "metadata": {},
   "source": [
    " - 2) 키의 알파벳 내림차순 순서대로 튜플 (키, 값)을 차례대로 출력하시오."
   ]
  },
  {
   "cell_type": "code",
   "execution_count": 58,
   "metadata": {
    "collapsed": false
   },
   "outputs": [
    {
     "name": "stdout",
     "output_type": "stream",
     "text": [
      "two 2\n",
      "three 3\n",
      "one 1\n",
      "four 4\n",
      "five 5\n"
     ]
    }
   ],
   "source": [
    "keys = d.keys()\n",
    "keys.sort(reverse = True)\n",
    "for i in keys:\n",
    "    print i, d[i]"
   ]
  },
  {
   "cell_type": "markdown",
   "metadata": {},
   "source": [
    " - 3) 값의 오름차순 순서대로 튜플 (키, 값)을 차례대로 출력하시오."
   ]
  },
  {
   "cell_type": "code",
   "execution_count": null,
   "metadata": {
    "collapsed": false
   },
   "outputs": [],
   "source": []
  },
  {
   "cell_type": "markdown",
   "metadata": {},
   "source": [
    " - 4) 값의 내림차순 순서대로 튜플 (키, 값)을 차례대로 출력하시오."
   ]
  },
  {
   "cell_type": "code",
   "execution_count": null,
   "metadata": {
    "collapsed": true
   },
   "outputs": [],
   "source": []
  },
  {
   "cell_type": "markdown",
   "metadata": {},
   "source": [
    "### [프로젝트 오일러 문제 7]\n",
    "소수를 크기 순으로 나열하면 2, 3, 5, 7, 11, 13, ... 과 같이 됩니다. 이 때 10,001번째의 소수를 구하세요."
   ]
  },
  {
   "cell_type": "code",
   "execution_count": 61,
   "metadata": {
    "collapsed": false
   },
   "outputs": [
    {
     "name": "stdout",
     "output_type": "stream",
     "text": [
      "104743\n"
     ]
    }
   ],
   "source": [
    "import math\n",
    "count = 0;\n",
    "A = 2   # 사용자가 입력한 숫자까지 1씩 증가하며 소수인지 검사 할 숫자\n",
    "J = 2   # A를 나누는 제수가 저장된 변수, 2부터 A의 제곱근까지 증가한다\n",
    "\n",
    "while count < 10001:    \n",
    "    if J <= math.sqrt(A):\n",
    "        if A % J == 0:    # 나누어 떨어지므로 소수가 아님\n",
    "            A += 1        # 다음 숫자 검사를 위해 A를 증가시키고\n",
    "            J = 2         # J는 2로 초기화\n",
    "            continue\n",
    "        else:             # A를 J로 나누어 떨어지지 않으면\n",
    "            J += 1        # 소수일 가능성이 있으므로 J는 1증가\n",
    "            continue\n",
    "    else:                 # J가 A의 제곱근보다 같거나 큰 경우는\n",
    "        result = A        # 위의 조건식을 계속 통과하여 소수로 판별된 경우임\n",
    "        count += 1\n",
    "        A += 1            # 다음 숫자 검사를 위해 A의 1 증가와\n",
    "        J = 2             # J 초기화\n",
    "print result"
   ]
  },
  {
   "cell_type": "markdown",
   "metadata": {},
   "source": [
    "### [프로젝트 오일러 문제 8]\n",
    "다음은 연속된 1000자리 숫자입니다.\n",
    "\n",
    "73167176531330624919225119674426574742355349194934\n",
    " 96983520312774506326239578318016984801869478851843\n",
    " 85861560789112949495459501737958331952853208805511\n",
    " 12540698747158523863050715693290963295227443043557\n",
    " 66896648950445244523161731856403098711121722383113\n",
    " 62229893423380308135336276614282806444486645238749\n",
    " 30358907296290491560440772390713810515859307960866\n",
    " 70172427121883998797908792274921901699720888093776\n",
    " 65727333001053367881220235421809751254540594752243\n",
    " 52584907711670556013604839586446706324415722155397\n",
    " 53697817977846174064955149290862569321978468622482\n",
    " 83972241375657056057490261407972968652414535100474\n",
    " 82166370484403199890008895243450658541227588666881\n",
    " 16427171479924442928230863465674813919123162824586\n",
    " 17866458359124566529476545682848912883142607690042\n",
    " 24219022671055626321111109370544217506941658960408\n",
    " 07198403850962455444362981230987879927244284909188\n",
    " 84580156166097919133875499200524063689912560717606\n",
    " 05886116467109405077541002256983155200055935729725\n",
    " 71636269561882670428252483600823257530420752963450 \n",
    "\n",
    "여기서 붉게 표시된 71112의 경우 7, 1, 1, 1, 2 각 숫자를 모두 곱하면 14가 됩니다.\n",
    "이런 식으로 맨 처음 (7 × 3 × 1 × 6 × 7 = 882) 부터 맨 끝 (6 × 3 × 4 × 5 × 0 = 0) 까지 5자리 숫자들의 곱을 구할 수 있습니다.\n",
    "\n",
    "이렇게 구할 수 있는 5자리 숫자의 곱 중에서 가장 큰 값은 얼마입니까?\n"
   ]
  },
  {
   "cell_type": "code",
   "execution_count": 62,
   "metadata": {
    "collapsed": false
   },
   "outputs": [
    {
     "name": "stdout",
     "output_type": "stream",
     "text": [
      "40824\n"
     ]
    }
   ],
   "source": [
    "maxvalue = 0     # 최대값을 저장하는 변수\n",
    "n = 1            # 5자리를 각각 곱한 수 저장\n",
    "start = 0        # 잘라낸 5자리 수에서 10000의 자리를 가리키는 인덱스 변수\n",
    "end = 5          # 잘라낸 5자리 수에서 1의 자리를 가리키는 인덱스 변수\n",
    "s = str('73167176531330624919225119674426574742355349194934\\\n",
    "96983520312774506326239578318016984801869478851843\\\n",
    "85861560789112949495459501737958331952853208805511\\\n",
    "12540698747158523863050715693290963295227443043557\\\n",
    "66896648950445244523161731856403098711121722383113\\\n",
    "62229893423380308135336276614282806444486645238749\\\n",
    "30358907296290491560440772390713810515859307960866\\\n",
    "70172427121883998797908792274921901699720888093776\\\n",
    "65727333001053367881220235421809751254540594752243\\\n",
    "52584907711670556013604839586446706324415722155397\\\n",
    "53697817977846174064955149290862569321978468622482\\\n",
    "83972241375657056057490261407972968652414535100474\\\n",
    "82166370484403199890008895243450658541227588666881\\\n",
    "16427171479924442928230863465674813919123162824586\\\n",
    "17866458359124566529476545682848912883142607690042\\\n",
    "24219022671055626321111109370544217506941658960408\\\n",
    "07198403850962455444362981230987879927244284909188\\\n",
    "84580156166097919133875499200524063689912560717606\\\n",
    "05886116467109405077541002256983155200055935729725\\\n",
    "71636269561882670428252483600823257530420752963450')\n",
    "while end < len(s):    \n",
    "    for x in s[start:end]:          # start부터 end-1까지 수를\n",
    "        n *= int(x)                 # 모두 곱해 변수 n에 저장\n",
    "    if n > maxvalue: maxvalue = n   # n이 현재까지 구한 최대값 보다 크면 최대값 교체\n",
    "    n = 1            # n초기화\n",
    "    start += 1       # start, end변수 각각 1씩 증가\n",
    "    end += 1\n",
    "print maxvalue"
   ]
  },
  {
   "cell_type": "markdown",
   "metadata": {},
   "source": [
    "### [프로젝트 오일러 문제 9]\n",
    "세 자연수 a, b, c 가 피타고라스 정리 a2 + b2 = c2 를 만족하면 피타고라스 수라고 부릅니다 (여기서 a < b < c ).\n",
    "예를 들면 32 + 42 = 9 + 16 = 25 = 52이므로 3, 4, 5는 피타고라스 수입니다.\n",
    "\n",
    "a + b + c = 1000  인 피타고라스 수 a, b, c는 한 가지 뿐입니다. 이 때, a × b × c 는 얼마입니까?\n"
   ]
  },
  {
   "cell_type": "code",
   "execution_count": 63,
   "metadata": {
    "collapsed": false
   },
   "outputs": [
    {
     "name": "stdout",
     "output_type": "stream",
     "text": [
      "[31875000]\n"
     ]
    }
   ],
   "source": [
    "L = [a*b*c for a in range(500) for b in range(500) for c in range(500) if (a < b < c) and (a**2 + b**2 == c**2) and (a + b + c == 1000)]\n",
    "print L"
   ]
  },
  {
   "cell_type": "markdown",
   "metadata": {},
   "source": [
    "### [Incremental Project] \n",
    "이전 Assignment 2의 마지막 문제는 웹 URL로 지정된 웹페이지를 문자열로 가져와 모든 HTML 태그 및 CSS와 Javascript를 제외한 순수 텍스트를 얻어내고 그 안에 존재하는 단어를 추출하고 단어들의 총 개수를 출력하는 프로그램을 작성하는 것이었다. 이번에는 그 마지막 숙제를 그대로 확장하여 웹 URL로 지정된 웹페이지 내 순수 텍스트 안에 존재하는 각 단어들에 대해 다음 요구사항 대로 출력하는 프로그램을 작성하시오.\n",
    " - 요구사항 1. 순수 텍스트 안에 존재하는 단어들에 대해 string 모듈을 활용하여 모든 punctuation (구두문자)를 완벽히 제거하시오.\n",
    "   - 예: ['world!', ':', '+hello+', '~python$$$', '=', 'world'] ---> ['world', 'hello', 'python', 'world']\n",
    "   - 모든 punctuation을 확인하는 방법은 아래와 같다.  \n",
    "import string  \n",
    "print string.punctuation\n",
    " - 요구사항 2. 만약 punctuation (구두문자)를 제거한 이후 공백으로 판명되는 단어들은 해당 단어 리스트에서 제거하시오.\n",
    "   - 예: ['컴퓨터공학부!', '---?', '%지향~', '...'] ---> ['컴퓨터공학부', '지향']\n",
    " - 요구사항 3. 각 단어들의 출현빈도를 사전형태로 저장하여 출력하시오.\n",
    "   - 예: ['world', 'hello', 'python', 'world', '컴퓨터공학부', '지향'] ---> {'world': 2, 'hello': 1, 'python': 1, '컴퓨터공학부': 1, '지향': 1}\n",
    " - 요구사항 4. 다음 3개의 사이트에 대한 결과를 출력하시오.  \n",
    "http://www.naver.com  \n",
    "http://www.daum.net  \n",
    "http://www.nytimes.com  "
   ]
  },
  {
   "cell_type": "code",
   "execution_count": 64,
   "metadata": {
    "collapsed": false
   },
   "outputs": [
    {
     "name": "stdout",
     "output_type": "stream",
     "text": [
      "'한글캠페인': 1 '위하여': 1 '나눔글꼴이': 2 '11월': 2 '나눔글꼴을': 2 '선호주제설정': 1 '39;대세': 1 '클릭하세요': 1 '이스트라이트': 1 '제대로': 1 '만났다': 1 '아티스트와': 1 '그런': 1 '바로이동': 1 '시스템글꼴': 1 '알아본': 1 '합창단': 1 '기존': 1 '홈': 3 '방송/통신': 1 '를': 1 '기쁜': 1 '다음페이지': 2 '캐스퍼TV': 1 '주제형캐스트': 1 '캠페인': 1 '랭킹': 1 '사이트로': 1 '때는': 1 '제공합니다': 1 '檢': 1 '제공되지': 1 '10cm': 1 '자주': 2 '기사보기': 1 '앱': 3 '네이버뉴스': 1 '설치된': 1 '마룬5': 1 '파리나무십자가': 1 '소식': 1 '자동차': 1 '종합/경제': 1 '또': 1 '전문보기': 2 '완료되지': 1 '국어사전': 1 '주목한': 1 '주요언론사': 2 '설정된': 1 '설치하세요': 1 'new': 1 '부동산': 2 '기온': 2 '불타는': 2 '닫기': 6 '데뷔': 1 '이용약관': 1 '폰트를': 1 '켤': 1 '달콤해서': 1 '100': 1 '카테고리': 1 '소규모': 1 '플러스': 1 '다양한': 1 '힙합의': 2 '않고': 1 '검색어저장': 6 '태연의': 1 '경우에': 1 '샘': 1 '시즌15': 1 '대세&#39': 1 '통합검색': 1 '타임스퀘어': 2 'txt': 5 '새': 1 '앱을': 1 '정책': 2 '뉴스': 2 '6': 4 '연예': 1 'type': 1 '가을': 1 '받습니다': 1 '개인정보': 1 '종료': 1 '온스테이지': 1 '인물': 1 '검색어를': 2 '급상승': 1 '책/문화': 1 '대해': 1 '건강': 1 '열기': 1 '8위': 1 '심쿵하고': 1 '젊은': 1 '많은지': 1 'SM': 1 'TV/연예': 1 '북스': 1 '진술': 1 '메뉴': 2 '연말공연': 1 'TOP': 1 '저장되지': 1 '뮤지션': 1 'YG': 1 '나눔글꼴로': 2 '7위': 1 '나만의': 1 '글꼴설정': 2 '저격': 1 '1': 1 '팔았다&quot': 1 '옥': 1 '카페': 2 '증권': 2 '반드시': 1 '영자지': 1 '기록': 3 '싶으면': 1 '트로피컬': 1 '4월13일': 1 '가능합니다': 2 'date': 1 '않은': 1 '확보': 1 '네이버를': 1 '스포츠/연예': 1 'or': 1 '이동': 1 '687': 1 '지도': 2 '천사의': 1 '생각한대로': 1 '소년': 1 '추가하시려면': 1 '새싱글로': 1 '실시간': 1 '자세히보기': 1 '연합뉴스': 1 '개인': 2 '리빙푸드': 1 '보내기': 1 '고객센터': 1 '듣는': 2 '더': 2 '이벤트': 1 '앱스토어': 1 '대안전시를': 1 '음반': 1 '싱글로': 1 '우리': 1 '18102.40': 1 '시작페이지로': 1 '질문형': 1 '매거진/전문지': 1 '검색어로': 1 '자동완성을': 1 '오늘의': 1 '차/테크': 1 'http://castbox.shopping.naver.com/sbox/main.nhn': 1 '지식iN': 2 '게임': 2 '감성': 1 '강요': 1 '달콤무드로': 1 '뮤지션리그': 1 '빠른': 1 '전송은': 1 '버튼을': 1 'NAVER': 3 '사용하고': 1 '입력': 1 '81': 2 '15.05': 1 '최근검색어': 2 'Username': 1 '경제': 2 'Corp': 1 '막돼먹은': 2 '기기(브라우저)에': 1 '내PC': 1 '진입': 1 '7': 3 '취소': 2 '재설치': 1 '바버렛츠라고': 1 '11.02': 1 'NPay': 1 '지워주세요': 1 '297': 1 '무료입니다': 1 '쇼핑': 2 '윌리엄스': 1 '웹문서': 1 '유형': 1 '해외에서': 1 'Sign': 2 '발생합니다': 1 '공익/나눔': 1 '선택': 1 'mismatch_before': 2 '사람도': 1 '검색어는': 1 '않는': 1 '보세요': 2 '민족': 2 '171': 1 'TV캐스트': 1 '구독설정': 1 '40.02': 1 '밴드음악으로': 1 '2': 1 '다음캐스트': 1 '이용자설문': 1 '발매': 1 'in_txt': 2 '해제': 1 '투데이': 1 '회사소개': 1 '보호를': 1 '믿고': 1 '로그아웃을': 1 '정트리오의': 1 '고객님의': 1 '웹툰': 2 'copy': 1 '맞춰': 1 '바이올리니스트': 1 '11': 3 '10': 5 '도움말': 8 '12': 3 'keyword': 1 '감상회': 1 '빌보드': 1 'PC에서는': 1 '미리보기': 1 'Connect': 1 '들어봤니': 1 'JYP': 1 '모든': 2 '무료로': 2 '관계에': 1 '싸움': 1 '오류': 1 '해당': 1 '사전': 2 '가': 1 'ON/OFF설정은': 1 '지식/교양': 1 '기업을': 2 '연령별/남녀별': 1 '개': 1 '없습니다': 2 '감': 1 '777': 1 '왜': 2 '컨텍스트': 2 '켜기': 5 '72': 1 '최근검색어에서': 1 '11:11': 1 '78': 1 '1위': 1 '4위': 1 '초대': 1 '번호는': 1 '오픈캐스트': 1 '포켓몬으로': 1 '5분': 1 '메인을': 2 '3위': 1 '어쿠스틱': 1 '지역': 2 '않습니다': 2 '1주': 2 'N드라이브': 1 '저탄수화물': 1 '사용': 2 '최대': 2 '솔로2집': 1 '현재': 2 '제공하고자': 1 '벌써': 2 '8': 5 '유명': 1 '다시': 2 '검색': 2 '뮤직': 5 '자동완성': 13 '13': 1 '126': 1 '영원히': 1 '정경화': 1 '구독목록': 1 '용어사전': 1 '변신': 1 'display_link': 1 '서울': 1 '영상': 2 '신규': 1 '10년來': 1 '그의': 1 '음원여신': 1 'qst_idx=1': 1 '만나보세요': 1 '수': 2 '요리': 1 '유명한': 1 '광고': 3 '전체': 2 '길어야': 1 '2번째': 1 '공지사항': 1 '9위': 1 '영어사전': 1 '달의연인': 2 '인디신의': 1 'PC': 1 '3': 2 '완료': 1 '포착…\"기금': 1 '이전페이지': 2 '박영선': 3 '패션뷰티': 1 '검색해': 1 '주제별캐스트': 1 '개인정보처리방침': 1 '메인': 2 '공용': 1 '메일': 1 '2위': 1 '주세요': 1 '다음': 2 'PC에서': 1 '트와이스': 1 '선거일까지': 1 '백과사전': 1 '관심사에': 1 '선택하여': 1 '비리': 1 '나눔글꼴': 8 '풍': 1 '일으키다': 1 '필요합니다': 1 '전체언론사': 2 '해': 1 '콜라보': 1 '다운로드URL': 2 '김현식은': 1 '검색어': 10 '평균연령': 1 '여기로': 1 '다운로드': 2 '핫': 1 '5174.08': 1 '난리': 1 '한': 1 '에픽하이': 1 '활성화되었습니다': 1 'Beta': 1 '설정': 1 '한자사전': 1 '의견을': 1 '갔지만': 1 '해야': 1 '계십니다': 1 'N': 1 '생활위젯': 1 '음악': 2 '확인': 1 '신고': 4 '그립습니다': 1 '보기': 2 '최순실': 1 '삭제한': 1 '뉴스스탠드': 2 '걸그룹': 1 '이유는': 1 '합니다': 1 '치솟는': 1 '등록': 2 '10월': 1 '쓰는': 1 'vs': 2 'qst_size=3': 1 'in': 1 '행복검색': 1 '자존심': 1 '제휴제안': 1 '서비스': 2 '까지': 1 '노래는': 1 '내역이': 1 '9': 4 '경우': 1 '청춘': 2 '리그': 1 '3대기획사': 1 '문자받기': 2 '바로': 1 'IT': 1 '고지방': 1 '펼치기': 1 '신드롬을': 1 '전문자료': 1 '장호일': 2 '나은': 1 '더보기': 2 '영화': 4 'mismatch_after': 2 '영애': 1 '확인되지': 2 '네이버me': 1 '최초설치가': 1 '감동적인': 1 '효능': 1 '메탈리카': 1 '나스닥': 1 '지드래곤': 1 '동영상': 1 '전체보기': 1 '주간차트': 1 '26주기': 1 '다우': 1 '저장됩니다': 1 '넘나': 1 '마이비즈니스': 1 '패밀리': 1 '쥬니버': 1 '이렇게까지': 1 '바로가기': 5 '반말': 1 'match': 2 '국내': 1 '공개': 1 '아파트': 1 '롤링홀': 1 '예약': 1 '6위': 1 '티져': 1 '검색어가': 1 '카페글': 1 'nbsp;나눔글꼴을': 1 '찾는': 1 '약관': 1 '웨이드': 1 '라인': 1 '레시피': 2 '15세': 1 '가볍고': 1 '39;녹겠네&#39': 1 '51': 1 '나선다': 1 '서비스를': 1 '주제별': 1 '퍼렐': 1 '영원하다': 1 'people': 1 '5위': 1 '111': 1 '책': 2 '청소년보호정책': 1 '아트어라운드': 1 '일본어사전': 1 '먼저': 1 '끄기': 7 '제20대': 1 '설치': 4 '임의로': 1 '신보': 1 '10위': 1 '포함': 2 '터지는': 1 '네이버SE': 1 '없을수도': 1 '난': 1 '암시': 1 'image7': 1 '금융': 1 '및': 3 '삭제': 4 '℃': 2 'of': 1 '날': 1 '이전캐스트': 1 '헬로!아티스트': 1 '변동성…개미': 1 'Forgot': 1 '입력하신': 1 '라이센스': 2 '내': 8 '있습니다': 4 '동일한': 1 '블랙핑크': 2 'http://nv1.veta.naver.com/dr?unit=002AN&tbsz=2&nrefreshx=0': 1 '블로그': 2 '목소리들': 1 '음반매장돕기': 1 '인터뷰': 2 '그룹의': 1 '검색홈': 1 '위해서는': 1 '뜻이었어': 1 'MY뉴스': 1 '긍정부정검색': 1 'var': 2 '몰랐네': 1 '네이버': 14 '이준기': 2 '하락': 2 '기능을': 2 '주제판': 1 '영영사전': 1 '레이어': 5 '원': 1 '저장': 2 '후보에': 1 '안내': 1 '설치하시겠습니까': 2 '5@회차': 1 '스포츠': 2 'with': 1 '영애씨': 1 '그': 1 '소중한': 1 '쇼핑캐스트': 2 '사이트': 3 'up': 1 '기능이': 5 '국회의원선거': 1 '빵빵': 1 '공연': 2 '팬이': 1 '카페명': 1 '타블로': 2 '이규혁': 2 '대박사건': 1 '자세히': 2 '해피빈': 1 '사용자가': 2 '내한공연': 1 '저장할': 1 '공간의': 1 '5': 3 '이미지': 1 '휴대폰번호': 1 '저장해': 1 'Password': 1 'http://nv2.veta.naver.com/dr?unit=002AP&nrefreshx=0': 1 '사용자': 1 '보기위해서는': 1 '꺼져': 3 '매체보기': 1 '불붙었다': 1 '상승': 11 '앤씨아': 2 '번의': 1 '로그인': 3 'quot;1조': 1 '추울땐': 1 '차트': 2 '이전': 2 '거래량': 1 '보이밴드': 1\n",
      "'gt': 4 '숨겨진': 1 '유지': 1 '제대로': 1 '관련': 3 '국민만': 1 '사라져가는': 1 '그림책': 1 '준비하라': 1 '팁': 2 '화끈한': 1 '고객센터': 1 '인천': 2 '쇼핑기획전': 1 '밖에': 1 '잠까지': 1 '전상품세일중': 1 '떠넘겨진': 1 '베스트100': 1 'Kakao': 1 '여성스러운': 1 '여수': 1 'CJ몰': 1 '자동차': 2 '부산': 1 '저자의': 1 '관저서': 1 '책홈': 1 '8위': 2 '따뜻하고': 1 '동대문구': 1 '하프클럽': 1 '내규': 1 '부동산': 3 '알': 1 '닫기': 2 '달린': 1 '남북한': 1 '놀라': 1 '이상형': 1 '역습': 1 '느낌': 1 '포니테일': 1 '하는': 1 '10월': 1 '주요': 2 '다니면서': 1 '0℃': 2 '레이스&#39': 1 '추천': 3 'Best': 1 '직접': 1 '전개': 1 '다음앱': 3 '책': 2 '해부한다': 1 '밝힌': 1 '있을까': 1 '뉴스': 3 '광고안내': 1 '6': 2 '연예': 2 '추위에도': 1 '대학': 1 '라이프': 2 'SSG.COM': 1 'ㅋ-ㅎ': 1 '입니다': 22 '전민식': 1 '개인정보': 1 '98': 2 '대구': 1 '목록': 1 '사업을': 2 '모르는': 1 '낱낱이': 1 '기품있어보여': 1 '한국': 1 '제휴문의': 1 '말레이시아서': 1 'Daum': 1 '달의': 2 '재밌는': 2 '슈퍼스타라면': 1 '온갖': 1 '3℃': 5 '스타일': 1 '72초TV': 2 '베일': 1 '무시': 1 '39;뇌관&#39': 1 '여인들': 1 '1': 3 '카페': 4 '제목': 22 '증권': 3 '아이디': 2 '1℃': 4 '나폴리': 1 '인기기획전': 1 'tv팟홈': 1 '5조': 1 '않은': 1 '백화점': 1 '그림자': 1 '도움말보기': 1 '정보': 8 '주목하는': 1 '고영태와': 1 '스페셜': 3 '너에게딱이야': 1 '현위치': 1 '다음작가': 1 '12개의': 1 '실시간': 2 '공지사항': 1 '개인': 1 '운세': 1 '대한민국': 1 '개인정보처리방침': 2 '전주': 1 '권선국': 1 '지적한다': 1 '상품': 1 '비공식': 1 '쇼핑몰': 2 'lt': 4 '더': 1 '걸린': 1 '잡화': 1 '목포': 1 '로드뷰': 1 '통합': 1 '위한': 1 '02:45': 1 '9': 1 '가계부채..경제위기': 1 '오늘의': 3 '6위': 2 '게임': 3 '피해': 1 '여행': 1 '바꾼': 1 '링크를': 22 '미시': 1 '같이가치': 3 '50%타임세일': 1 '려': 2 '709': 1 '남성다운점퍼': 1 '대가': 1 '월스트리트가': 1 '나서나': 1 '유럽의': 1 '정유라': 1 '의자놀이': 1 'FUN': 1 'G마켓': 1 '80': 2 '81': 2 '86': 2 '15.04': 1 'Corp': 1 '비밀번호': 2 '바쁘게': 1 '회원가입': 1 '7': 1 '미즈넷': 2 '키스': 1 '어설프지만': 1 '11.02': 1 '번째': 1 '가정': 1 '18,100.89': 1 '이메일': 1 '쇼핑': 4 '유형': 1 '경기': 2 '여신': 1 '보여': 1 '작가전': 1 '39;문': 1 '수': 3 '날짜': 1 '지도': 3 '헤어': 1 '성장소설': 1 '겨울까지따뜻': 1 '이승환': 2 '않는': 1 '내용을': 22 '홈베이킹': 1 '베이킹': 1 '최근': 1 '장호일': 2 '171': 2 '요리': 1 '여성주의와': 1 '백샘표': 1 '환율': 1 '회사소개': 1 '나이키닷컴': 1 '빌보드': 1 '독점49,410원': 1 '3만원대패딩': 1 '지식공간': 1 '첫': 1 '보호를': 1 '아디다스에서': 1 '웹툰': 2 'copy': 1 '41.53': 1 '날씨': 3 '11℃': 1 '11': 1 '10': 1 '난리난패딩': 1 '이세돌': 1 '가을신상점퍼': 1 '증언': 1 '39;손목에': 1 '미시옷': 1 '체육회': 1 '현주소': 1 '세련된수제화': 1 '수행해야': 1 '위해': 1 '트렌드샵': 1 '인기': 2 '바꾸는지': 1 '광주': 1 '환불': 1 '쏘내추럴': 1 '사전': 3 '인생을': 2 '확인하시려면': 22 '경기전': 1 '전': 22 '미루는': 1 '기획전홈': 1 'ㄱ-ㄹ': 1 '링크모음': 3 '경기시간': 1 '인재채용': 1 '공감': 1 '카카오': 1 '아름다운': 1 '76': 2 '풀린': 1 '얼큰한': 1 '가혹한': 1 '1위': 2 '4위': 2 '고백': 1 '오늘': 1 '잤다&quot': 1 '열고&#39': 1 '뉴스홈': 1 '그릇이': 1 '불계승': 1 '스타병': 1 'tv팟': 3 '3위': 2 '해먹는': 1 '친밀한': 1 '작가들에게': 1 'quot;문체부': 1 '한층': 1 '지역': 2 '5℃': 3 '업무': 1 '찾기': 2 '에세이': 1 '현재': 9 '수원': 1 '모바일': 1 '때': 1 'amp;#9662': 2 '티스토리': 1 '8': 1 '검색등록': 1 '검색': 3 '장애아': 1 '탄성을': 1 '전일대비': 2 '나의': 2 '넘봐&quot': 1 '우리': 1 '대': 1 '이규혁이': 1 '서울': 1 '영상': 1 '강동원': 1 '로그인': 5 '눌러주세요': 22 '412': 2 '춘천': 1 'UEFA챔스': 1 '자아낸': 1 '고민': 1 '우리를': 1 '90여': 1 '중계센터': 1 '안돼..온라인': 1 '않는다': 1 '광고': 1 '자취남의': 1 '폭력': 2 '전체': 1 '깜짝': 1 '11번가': 1 '서비스약관': 1 '9위': 2 '대신': 1 '5,174.09': 1 '접촉..대화탐색': 1 '아빠들의': 1 '직장에': 1 '3': 1 '브런치': 3 '겨울': 1 '시청자를': 1 '메일': 1 '2위': 2 '하나로': 1 '주세요': 1 '다음': 9 '굿': 1 '울산': 1 '백과사전': 1 '공주전': 2 '소개': 1 '서양네트웍스': 2 '씨엘': 1 '장시호': 1 '섬세한': 2 '니트': 1 '때문에': 1 '어학사전': 1 '베식타슈': 1 '할': 1 '상원': 1 '청소년보호정책': 1 '디테일': 1 '민진웅': 2 '언어차이': 1 '한': 2 '설정': 3 '보여주는': 1 '코트30%&darr': 1 '사업': 1 'CJmall': 1 '고퀄리티': 1 '외교': 2 '아웃도어': 1 '청주': 1 'GS샵': 1 '비결': 1 '미래가': 1 '최순실': 1 '핸드메이드': 1 '백령': 1 '된': 1 '연세대': 2 '행적..귀국': 1 '난맥상을': 1 '갤러리아몰': 1 '소호BEST': 1 '연출할': 1 '나는': 1 '12개': 1 '롯데닷컴': 2 '유익한': 2 '클릭상품': 1 '강릉': 1 '가져오기': 22 '이수민': 2 '서비스': 7 '수상작': 1 '포기': 1 '패션플러스': 1 '오너가': 1 '러시아': 1 '패션감각': 1 '대전': 1 '바로': 22 '펼치기': 1 '워싱턴에서는': 1 '청와대': 1 '브런치북': 1 'ㅁ-ㅂ': 1 '더보기': 1 '영화': 3 '묻다': 1 '구두': 1 '이슈': 2 '급증': 1 '월급쟁이에서': 1 '맑음': 1 '나스닥': 1 '사용해': 1 '아고라': 2 '총집합~72%&darr': 1 '사람': 1 '페이지': 13 '계속': 1 '동영상': 7 '전체보기': 2 '100%~소가죽': 1 '웹접근성안내': 1 '다우': 1 '북&middot;미': 1 '게': 1 '없어도': 1 '보수가': 1 '있는': 1 '울릉/독도': 1 '4': 1 '맛있게': 1 '바로가기': 7 '불안하다면': 1 '우아해': 1 '기억해줄': 1 '검색어': 1 '조윤선': 2 '초보를': 1 '딱': 1 '유치': 1 '39;이메일': 1 '약관': 1 '오일머니': 1 '39;검단스마트시티&#39': 1 'IP보안': 2 'PC에서만': 1 '레시피': 1 '정교해': 1 '가볍고': 1 '최저기온': 1 '시작했다': 1 '헤어핀': 1 '자동실행': 1 '제주': 1 '이유': 1 '시국선언..촛불집회도': 1 '회사의': 1 '물거품되나': 1 '5위': 2 '115': 2 '110': 2 '5': 1 '대상': 1 '탭': 10 '실패': 1 '2도': 1 '어떻게': 1 '10위': 2 '쌀쌀한~요즘': 1 '다수당': 1 '완성': 1 '알려지지': 1 'quot;최순실': 1 '6℃': 1 '총': 6 '연인': 2 '한국이': 1 '금융': 1 '및': 2 '쇼핑홈': 1 'uarr': 20 '밥': 1 '정보로': 1 '접근성': 1 'or': 1 '패션': 1 '평범한': 1 '대한민국의': 1 '블로그': 3 'ㅈ-ㅊ': 1 '초특가': 1 '7인의': 1 '쇼핑도움': 1 '보보경심': 2 '고려': 1 '고삐': 1 '현실을': 1 '신기루였나': 1 '수도': 1 '택시기사님들의': 1 '소호': 1 '폴초의': 1 '신규앱': 1 '하락': 2 '스토리펀딩': 3 '롯데i몰': 1 '대질심문도': 1 '시래깃국': 1 '원': 1 '당신에게': 1 '안내': 2 '따뜻': 1 '포토': 1 '스포츠': 3 '다음웹툰': 1 '변경': 1 '웹': 1 '보이지': 2 '재수사&#39': 1 '없이': 1 '157': 2 '일들': 2 '이규혁': 2 '하나하나': 1 '이야기': 1 '가려진': 1 '민주': 1 '사표': 1 '방금그곡': 1 'TV': 2 '39;모르쇠&#39;에..검찰': 1 '7℃': 1 '제2회': 1 '포근한': 1 '7위': 2 '없는': 3 '1호선': 1 '대한': 1 '상승': 20 'HOT': 1 '노동의': 1 '집게핀': 2 '드러나': 1 '국민들에게': 1 '독특한': 1 '이전': 7 '살': 1 '미디어': 2 '불똥..美': 1 '아주': 1 '옥션': 1 'ㅅ-ㅇ': 1 '핑계대며': 1 '태연': 2\n",
      "'9/11': 3 'NYT': 1 'Does': 1 'aides': 1 'Home,’': 1 'Appeal': 1 'Until': 1 'Hoover': 3 'Western': 1 'vast': 1 'Thomas': 1 'Campaign': 1 'Less': 1 'Journeys': 1 'Go': 8 'Cuisine': 2 'direct': 1 'Willpower': 1 'likely': 1 'Version': 1 'even': 1 'reHide.test(attrClass': 3 'cooking': 1 'Otherworldly': 1 'new': 5 'widget': 1 'document.addEventListener('DOMContentLoaded': 1 'hundreds': 1 'Ohio': 1 '100': 3 'dry': 1 '‘Unsinkable': 1 'Tuesday': 2 'Market': 1 'Home': 4 'changes': 1 'campaign': 2 'Privacy': 1 'Support': 1 'brought': 1 'Health': 7 'meats': 1 'Dispute': 1 'would': 3 'Cholera': 3 'music': 1 'type': 1 'until': 1 'Rule': 2 'Unreleased': 1 'this).attr('href': 2 'work': 1 'Steely': 1 'Colombia': 2 'Advertisers': 1 'registeredWelcome': 1 'Standing': 2 'estate': 1 'LEARN': 1 'Virtual': 1 'DAVID': 1 'Bruni': 1 'console.log('ok': 1 'Digital': 1 'reFormat': 1 'Sign': 2 'u(t){for(var': 1 'U.S': 4 'Editorials': 1 'Watching': 2 'container.setAttribute('class','not-signedin': 1 'Irvine': 1 'Muslims': 1 'Poverty': 1 'Zika': 2 'Paying': 1 'Dylan': 1 'earlier': 1 'Will': 3 'Park': 1 'law': 1 'CARYN': 1 'acknowledged': 1 'enter': 1 'JANE': 1 '1000': 1 'Monroe': 1 'Surveillance': 1 'registeredButton': 1 'His': 2 'Hit': 2 'Smarter': 1 'Offered': 1 'Here': 2 'fanciest': 1 'Birth': 1 'MARTIN': 1 'Judge': 1 'videoFactory': 1 'Mercy': 1 'Survivor': 1 'Mobile': 3 'Challenge': 1 'Suggests': 1 'they': 4 'schools': 1 'Control': 2 'meat': 1 'classified': 1 'each': 1 'Multimedia/Photos': 1 'computer': 1 'Humor': 2 'series': 2 'Paranoia': 1 'Won': 1 'emailPreferencesLinkText': 1 'https://a1.nyt.com/assets': 1 'Producers': 1 'require(['nytint-geoip': 1 'foundation': 1 'turning': 1 'University': 2 'Work': 2 'standard': 1 'campaigns': 1 'copycats': 1 'W': 1 'Earth’': 1 'et.nytimes.com': 1 'Clinton': 4 'Contributors': 1 'window.NYTD.Global.displayBriefings(previewTime': 1 'Photo': 1 'Calculator': 1 'Vine': 1 'NYTD.Abra.init([[\"HOME_ComingUp\",[[2147483648,\"control\",1],[2147483648,\"comingup\",1]]],[\"HOME_NewsEvent2\",[[3865470567,\"full\",1],[429496729,\"control\",1]]],[\"HOME_ElectionPrediction\",[[3865470567,\"on\",1],[429496729,\"control\",1]]],[\"EC_SampleTest\",[[2147483648,\"variantA\",0],[2147483648,\"variantB\",0]]],[\"EC_DigiAbandonmentTest\",[[4294967296,\"control\",1': 1 'unregisteredButton': 1 'Votes': 1 'already': 1 'Palestinian': 2 'Please': 2 'Fight': 1 'Going': 1 'Squeezing': 1 'Website': 1 'Cocktail': 1 'Mess': 1 'top': 1 'Recordings': 1 'Notebook': 1 'window.NYTD': 2 'Alexander': 1 'Search': 5 'B': 1 'rejected': 1 'morning-briefing-widget': 1 'Employing': 1 'country’s': 2 'KAITLYN': 1 'modern': 1 'Transgender': 1 'Them': 1 'Historic': 1 'They': 2 'though': 1 'Artists’': 1 'Comey': 3 'letter': 1 'Rigged': 2 'Comet': 1 'Went': 1 'Side': 1 'Comes': 1 'preferences': 1 '31)+1518500249)+((e=n[1])&(r=n[2])|~e&(o=n[3])),u=a+(e^r^o)+341275144,a+(e&r|e&o|r&o)+882459459,u+1535694389][0|f++/20],t,e': 2 'medical': 1 'Bound': 1 'widget.setAttribute('class','clearfix': 1 'Election': 5 'Want': 1 'Its': 2 'saying': 1 'Curly': 1 'timedBriefings.length': 1 'KATE': 1 'Take?’': 1 'Big': 2 'Photography': 3 'theme': 1 'Account': 1 'Turns': 1 'Taxes': 1 'container.getElementsByTagName('button')[0': 1 'nasty': 1 'F.B.I': 7 'Over': 1 'Washington': 1 'Epidemic': 3 'grilled': 1 'ALEXANDER': 1 'questions': 1 'testTime': 1 'Recommended': 1 'Dogs': 1 'best': 1 'said': 3 'Horror': 2 'opts.limit': 1 '360': 4 'Error(\"can't': 2 'Trek': 3 'Settings': 1 'o=document.getElementsByTagName(\"script\")[0];o.parentNode.insertBefore(t,o': 1 'Edgar': 2 'Oysters': 1 'Dance': 1 'Focus': 1 'Waking': 1 'hummus': 1 'Contact': 1 'Novelist': 1 'Classifieds': 1 'Tronc': 2 '19th-Century': 1 'tons': 1 'trust': 1 'been': 1 'Hillary': 2 'container.getAttribute('data-status': 1 'rePreviewTime': 1 'quantities': 1 'Verdict': 4 'immersive': 1 'Upper': 1 'Dries': 1 'Heralding': 1 'publicly': 1 'Deputy': 1 'Beware': 1 'Manage': 1 'require(['https://a1.nyt.com/analytics/tagx-simple.min.js': 1 'foundation/helpers/utils': 1 'Writers': 1 'launched': 1 'e=\"https:\"==document.location.protocol;t.src=(e?\"https:\":\"http:\")+\"//www.googletagservices.com/tag/js/gpt.js\";var': 1 'it': 1 'experts': 1 'inscrutable': 1 'if': 7 'Around': 1 'Wins': 1 'President': 3 'mastectomies': 1 'window.NYTINT_TESTING||e(),e': 1 'Won’t': 1 'require(['foundation/main': 3 'Room': 1 'Ford': 1 'Oil': 1 'Gates': 1 'kept': 1 '‘People': 1 'T': 3 'echoes': 1 'the': 49 'Chobani': 1 'previous': 1 'Offer': 1 'had': 1 'Soundtrack': 1 'trampled': 1 'James’s': 1 'News': 5 'has': 4 '’90s': 1 'Where’s': 1 'Restaurant': 1 'Released': 1 'Taking': 1 'Morning': 3 'Refuses': 1 'Missouri': 1 'Grass': 1 'Heart': 3 'Art': 2 'Trump': 13 'support-the-troops': 1 'Newsletters': 1 'Teenagers': 1 'Are': 1 'What’s': 1 'Again': 1 'Puts': 1 'people': 2 '766,756': 1 'Tiny': 1 'Much': 1 'election': 1 'N.Y': 2 'escape': 1 'Inconvenient': 1 'Divides': 1 'Life': 1 'Scion': 1 'for': 22 'Siege': 1 'opposite': 1 'creative': 1 'Let': 1 'Chris': 1 'He': 2 'core': 1 'Columnists': 1 'Daily': 4 'Frugal': 1 'Cloaked': 1 'losing': 1 'Property': 1 'properties': 1 'First': 1 'months': 1 'Cheap': 1 'Evidence': 1 'Commute': 1 'Stretched': 1 'Machines': 1 'managers': 1 'Make': 1 'Hybrid': 1 'attrClass': 2 'Insider': 6 'Brokaw': 1 'Silent': 1 'MICHELLE': 1 'Selling': 1 'fabric': 1 'Elvis': 1 'way': 1 'Presley': 1 'Elena': 1 'was': 3 'war': 1 'now.getHours': 1 'form': 1 'Supper': 1 'Backs': 1 'true': 1 'GMT': 1 'Seeing': 1 'pageManager.trackingFireEventQueue': 1 'utils.appendQueryParams(href': 1 'inside': 1 'Showman': 1 'Aren’t': 1 'n,e,r,o,u,a,i,c=0,f=0,s=[],l=[n=1732584193,e=4023233417,~n,~e,3285377520],h=[],p=t.length;f': 1 'Greenspan': 1 'submitting': 1 'Leaders’': 1 'Cream': 1 'Personal': 1 'Expects': 1 'AIBA': 1 '2|15]=p<<3;c<=i;c+=16){for(n=l,f=0;f<80;n=[0|[(a=((t=n[0': 2 'Limits': 3 'no': 1 'Leases': 1 'Pages': 1 'notify.setAttribute('placeholder': 1 'E': 1 'Hunt': 1 'auth/mtr': 1 'Trial': 1 '‘Beyond': 1 'Loft': 1 'longer': 1 'Estate': 4 'Charles': 1 'Intern': 1 'Nonfiction': 2 'reception': 1 'time': 7 'songs': 1 'widget.getElementsByTagName('form')[0': 1 'bombed': 1 'Today': 2 't.XMLHttpRequest,e=s;n.withCredentials=!0,n.open(\"POST\",i),n.onreadystatechange=function(){var': 1 '0': 3 'text': 2 'Day': 1 'Adventures': 1 'Don’t': 1 'Tech': 3 'http://www.nytimes.com/elections/results/status.json': 1 'Recalls': 1 'Where': 1 '0,i=0,c=0;r=a[i++];)if(e': 1 'Tax': 2 'gun': 1 'George': 1 'tougher': 1 'SUSANNE': 1 'Subscriptions': 5 'Flat’': 2 'Public': 4 'shared': 1 'Along': 1 'Bill': 1 'People’s': 1 'funeral': 1 'https://static01.nyt.com/js2/build/video/players/extended/2.0/appRequire': 1 'English': 1 'newtext': 1 'My': 3 'nbsp;Comments': 7 'Ling’s': 1 'Dead': 1 'trial': 1 'navigation': 1 'Justice': 1 '2]|=(f<p?t.charCodeAt(f):128': 2 't=document.createElement(\"script\");t.async=!0,t.type=\"text/javascript\";var': 1 'Billionaire': 1 'Russia': 1 'live': 1 'Tammy': 2 'These': 2 'Orlando': 1 'Services': 1 'underscore/nyt': 1 'Time': 1 'organizations': 1 'Celebrations': 1 'notify.addEventListener('focus',function': 1 'Family': 1 'Pacific': 1 'can': 1 'isn’t': 1 'Our': 2 'Avoided': 1 'Mr': 2 'Out': 5 'Federal': 2 'Huma': 1 'productive': 1 'Terms': 2 'in': 41 'divided': 1 'Who': 3 'n.init=function(n,o){var': 2 '1': 3 'Bullets': 1 'Why': 4 'economy': 1 'notify.addEventListener('mouseout',function': 1 'information': 1 'Pyrenees': 1 'Corporate': 1 'View': 3 'A-Changin’': 1 'timedBriefingHide': 1 'Locale': 1 'Series': 2 '2|15]=p': 2 'so': 1 'opts': 1 '27)+n[4]+(s[f]=f<16?~~h[c+f]:a': 2 'Hunting': 1 'Jay': 1 'Breaking': 1 'Genetic': 1 'notify.setAttribute('placeholder',origtext': 1 'LaFRANIERE': 1 '0:b=a.replace(\"_code\",\"\")}return': 1 'alreadySubscribedMessage': 1 'undermined': 1 'offers': 1 'policy': 1 'mail': 1 'RABIN': 1 'matches': 2 'origtext': 1 'Choices': 1 'She': 1 'not': 2 'now': 1 'hall': 1 'name': 1 'Skip': 2 'You’re': 1 'VEDA': 1 'showcasing': 1 'A': 14 'Shorter': 1 'year': 1 'avoided': 1 'container': 2 'Abandons': 2 'homepage/20161031-131206/js/foundation': 1 'form.setAttribute('class','dirtyform': 1 'Joe': 1 'ANNE': 1 'receiving': 1 'Jon': 1 'Workstation': 1 'after': 1 'Theater': 4 'Samsung': 1 'r}}function': 1 'https://static01.nyt.com/js/auth/growl/default': 1 'ajax': 1 'N.F.L': 1 'Ide’s': 1 'Money': 2 'McINTIRE': 1 'Touch': 1 'During': 2 'first': 1 'Even': 1 'There': 2 'Asia': 1 'Start': 1 'Black': 1 'millions': 1 'unregisteredPlaceholder': 1 'Monday': 1 '2': 1 'convention': 1 'Date': 1 'legally': 1 'Bundy': 2 'that': 5 'copy': 1 'than': 3 '10': 1 'Love': 1 '10:08': 1 '10:09': 1 'Backing': 1 'require': 2 'optimism': 1 '10:01': 1 'homepage/20161031-131206/js/shared': 1 'Fake': 2 'Advertise': 1 'Settlement': 1 'browser': 1 'and': 34 'document).ready(function': 2 'Combines': 1 'Court': 1 'Philadelphia': 1 '“millennium': 1 'say': 1 'Valley': 1 'Women’s': 1 'Blame': 1 'u,c,f,s,l=[],h=(t.document.cookie.match': 2 'Articles': 1 'Off': 2 'Ignites': 1 'investigations': 1 'Caption': 1 'donation': 1 'Donkeys': 1 'Wisconsin': 1 'Ferrante': 1 'timedBriefings[i].setAttribute('class': 3 'Beyond': 1 'raquo': 34 'l[0]}var': 2 '7:34': 1 'Trending': 1 'surplus': 1 'Political': 1 'contemporary': 1 'Role': 1 't,r;if(4==n.readyState)for(t=200==n.status?null:new': 1 'ground': 1 'Wants': 1 'We': 1 'upgrade': 1 'before”': 1 'nythpSmarterLiving': 1 'Camp': 1 'Violence': 1 'Fighting': 1 'DealBook': 1 'Magazine': 6 'TYLER': 1 'Christie’s': 1 'Right': 2 'document.getElementById('morning-briefing-widget': 1 'people’s': 1 'Anger': 1 'Lesson': 1 'Education': 5 'surgery': 1 'Iowa': 1 'That': 5 'review': 1 'forecast': 1 'boundaries': 1 'Frenzy': 1 'SCOTT': 1 'WEINER': 1 '8:49': 1 'Than': 1 'Target': 2 'document.getElementsByClassName('timedBriefing': 1 'killing': 1 'Saudi-led': 1 'Advocates': 1 'Emailed': 1 'Recognition’': 1 'Bullpen': 1 'What's': 1 'McPHATE': 1 'Steaming': 1 'Travel': 3 'require.config': 1 'Note': 1 'c-column.column': 1 'biographer': 1 'Events': 3 'Buy': 1 'subscribed': 1 'Bus': 1 'But': 4 'Reporters': 1 'BURNS': 1 'widget.getElementsByClassName('notify-email')[0': 1 'Date().getTime': 1 'Together': 1 'elementToHideOnSubscribe': 1 'former': 1 'case': 1 'Kenneth': 2 'a,i,c,f=\"\",s=[];return': 2 'Portal.create('#nytint-hp-watching': 1 'jquery/nyt': 1 'utils': 1 'dubious': 1 'twice\");for(i=o,a={},u=0;u': 1 'worry': 1 'Israel': 3 'Complete': 1 'inquiry': 1 'JONATHAN': 1 'Ditmas': 1 'status': 1 'oil': 1 'I': 1 'defy': 1 'director': 2 'running': 1 'Says': 1 'undefined': 2 'Owe': 1 'Is': 12 'It': 1 'TV': 1 'without': 1 'Rent': 1 'In': 10 'Hoover’s': 1 'Loading': 2 'Service': 1 'money': 1 'Markets': 1 'Debt': 1 'Here’s': 1 'application': 1 'param': 2 'it’s': 1 'Applications': 1 'CHRISTOPHER': 1 'Analyst': 1 'real': 1 'Parable': 3 'Many': 1 'Harder-to-Trace': 1 'Tour': 1 'amp': 1 'Talk': 1 'nythp-morning-briefing-email-promo': 1 'Show': 1 'Hacks': 1 'Raises': 1 'Sharp': 1 '中文': 1 'Before': 1 'Jewelry': 1 'West': 2 'Seriously': 2 'Clinton’s': 2 'He’s': 1 'Listen': 1 'https://int.nyt.com/applications/email-subscriber/client': 1 'SHASTRI': 1 'content': 1 '911': 1 'Marilyn': 1 'containerId': 1 'chefs': 1 'Haiti’s': 3 'Settle': 1 'Rock': 2 'on': 14 'Inspire': 2 'of': 44 'Transit': 1 'Paper': 2 'Concussions': 1 'Message': 1 'or': 4 'protests': 1 'No': 2 'Least': 1 'inbox': 1 'determine': 1 'Meeting': 1 'your': 5 'Store': 1 'NN': 1 'Though': 1 'json': 1 'start': 1 'Suffering': 1 'Putman': 1 'Assad': 1 'Pipeline': 1 'J': 4 'homepage/20161031-131206/js/homepage': 2 'Error': 1 'trying': 2 'with': 1 'Original': 2 'Date(new': 1 'Ad': 1 '‘The': 2 'RONI': 1 'thanksMessage': 1 'vhs': 1 'Close': 1 'Moves': 2 'Blow': 1 'Delivered': 1 'videos': 2 'Space': 2 'Fall’': 1 'Wordplay': 1 'an': 6 'Blog': 1 'How': 3 'as': 5 'at': 9 'window.location.search.indexOf('portal_variant=watchingNoScroll': 1 'reHide': 1 'Op-Ed': 7 'again': 1 'Read': 1 'Unrepentant': 1 'attrEnd': 1 'you': 4 'Law': 1 'gaining': 1 'Great': 1 'videoPlaylist': 1 '10:21': 1 '‘Natasha': 1 'CNN': 1 'Bashar': 2 'googletag=googletag||{};googletag.cmd=googletag.cmd||[],function(){var': 1 'Resurrected': 2 'all': 2 'Workers': 1 'Take': 1 'Maneuver': 1 'glimpse': 1 'to': 36 'init': 2 'program': 1 'dairy': 1 'homepage': 1 'belonging': 1 'far': 1 'Listings': 1 'Sale': 3 'Conversation': 2 'fall': 1 'bypasses': 1 'SHANE': 1 'Binding': 1 'Horinek': 1 'Scary': 1 'Español': 1 'Should': 1 'past': 1 'what': 2 'Tried': 1 'prevailed': 1 'Prosecutors': 1 'Gift': 1 'Introducing': 2 'hyper-accurate': 1 'Briefing': 4 'search': 1 'experience': 1 'social': 2 'Style': 6 'Things': 1 'Top': 1 'Sparkling': 1 'href': 3 'Too': 2 'Reader': 1 'Crash': 1 'Explorer': 1 'two': 1 'Automobiles': 2 'Baseball': 1 '6': 3 'Doppelgänger': 1 'more': 3 'Butter': 1 'fast-food': 1 'Buber': 1 'St': 1 'American': 1 'So': 1 'Your': 5 'productCode': 1 'Opening': 1 'rather': 1 'window.location.search.match(rePreviewTime': 1 'Fusion': 1 'Shadow': 1 'Television': 2 'advice': 1 'Matter': 1 'Continue': 1 'startTime': 5 'Syria': 2 'response': 2 'a': 33 'Who’s': 1 'Player': 1 'Film': 1 'What': 2 'help': 1 'through': 1 'Forces': 2 'Oct': 1 '20': 2 'late': 1 'require(['nytint/email-subscriber': 1 'might': 1 'waitSeconds': 1 'Resolve': 1 'return': 3 'Error(n.statusText);r=e.shift();)r(t)},n.send(f),f=\"\",s=[],c=null}function': 1 'opts.poll': 1 'Obesity': 1 'Bai': 1 'displayBriefings': 1 'Sounds': 2 'Saints': 1 'Sports': 4 'Complex': 1 'beyond': 1 'More': 10 'Connects': 1 'auth/growl': 1 'Report': 1 'Clear': 1 'Will.i.am': 2 'Hinge': 2 'timedBriefings': 1 'ET': 10 'benefits': 1 'People': 1 'Debate': 1 'Bland': 1 'undergo': 1 'Defrauded': 1 'notify': 1 'Dangers': 1 'story': 2 'BARNARD': 1 'nytint/email-subscriber': 1 'You’ve': 1 'function(response': 1 'taxable': 1 'Cancer': 1 'Puzzle': 2 '‘Real’': 1 'Officials': 2 '2021': 1 'function(Subscriber': 1 'testTZ': 1 'Father': 1 'Battles': 1 'airstrike': 1 'Gov': 1 'fading': 1 'paths': 2 'Generates': 1 'Food': 5 'Price': 2 '‘Normalization’': 1 'With': 9 'Sides': 2 'James': 4 'a').each(function': 1 'M': 1 'most': 1 'Chief': 1 'The': 33 'Bridge': 3 'Egypt': 1 'Subscribe': 4 'weigh': 1 'Viewed': 1 'Expert': 1 'Deadly': 1 'Had': 1 'tenet': 1 '360-degree': 1 'week’s': 1 'Has': 1 'find': 1 'Muslim': 1 '8': 1 'his': 3 'Number.parseInt(matches[1': 1 'Genitalia': 1 'reporters': 1 'Trump’s': 2 'Strange’': 1 '2|15]=p<<3;c<=i;c+=16){for(n=l,f=0;f': 1 'Help': 2 'Thirsty': 1 'Minneapolis': 1 'Hell': 1 'drought,”': 1 'Necessities': 1 'set': 1 'For': 2 'are': 5 'Wing’': 1 '2]|=(f': 1 'GET': 1 'please': 1 'PATRICIA': 1 'HEALY': 1 'Runway': 1 'ab-column': 1 'r(n,e,r,u){f+=\"subject=\"+n+\"&test=\"+encodeURIComponent(e)+\"&variant=\"+encodeURIComponent(r||0)+\"&url=\"+encodeURIComponent(t.location.href)+\"&instant=1&skipAugment=true\\n\",u&&s.push(u),c||(c=t.setTimeout(o,0))}function': 1 'Today’s': 1 'Sana': 1 'Jobs': 1 'Refugees': 1 'water': 2 'last': 1 'Boxing’s': 1 'Hard': 2 'notify.addEventListener('mouseover',function': 1 '9:09': 1 'Sherlock': 1 'Green': 2 '9:06': 1 'Jenner': 1 'simple': 1 'acted': 1 'address': 1 'testTime.getUTCMinutes': 1 'improper': 1 'Way': 1 'Was': 1 'Brown,’': 2 'Co-op': 1 'Sinosphere': 1 'container.setAttribute('class','signedin': 1 'political': 2 'Most': 3 'secret': 1 'California': 2 'Plan': 1 'window.magnum.writeLogo('small': 1 'Women': 2 'lived': 1 'Polls': 1 'else': 1 '‘IQ,’': 1 'Saudi': 1 'Pick': 1 'Drops': 1 'Run-Up': 1 'Founder': 1 'o(){var': 1 'window.NYTD.Global.displayBriefings((testTime.getUTCHours': 1 'while': 1 'College': 1 'Issues': 1 'City': 4 'Grounded': 1 'von': 1 'Updated': 1 'Anyone’': 1 'Wrist': 2 '9': 1 'n=new': 1 'NYTimes.com': 2 'About': 1 'used': 1 'lawyers': 1 'Lines': 2 'Podcasts': 1 'Movies': 2 'buybacks': 1 'Seek': 1 '2,r,o])a=s[f-3]^s[f-8]^s[f-14]^s[f-16];for(f=5;f;)l[--f]=l[f]+n[f]|0}return': 2 'Son': 1 'Rate': 1 'Economic': 1 'Racial': 1 'Tools': 1 'know': 1 'Living': 2 'Porsche': 1 'previewTime': 2 'reviewed': 1 'Reconstruction': 1 'Internet': 1 'Comedy': 1 'b};return': 1 'loading': 1 'Football': 1 'Front': 2 'input': 1 'Chips': 1 'On': 7 '‘Doctor': 1 'forces': 1 '‘West': 1 'errorMessage': 1 'Truth': 1 'Yemen': 1 'like': 1 'ALFANO': 1 'pillar': 1 'Colony': 1 'collect': 1 'Sight': 1 'Upgrades': 1 'Dakota': 2 'Happens': 1 'often': 1 'some': 1 'back': 1 'extremist': 1 'Email': 1 'Momentum': 1 'Fire': 1 'Frank': 1 'AMISHA': 1 'Microcephaly': 2 'Comey’s': 3 'be': 2 'Economics': 1 'Times': 17 'from': 1 'Bob': 1 'by': 12 '‘Female': 2 'SHARON': 1 'pipeline': 1 'Voters': 1 'Savings': 1 '750,000': 1 'Dies': 4 'Hicks/The': 1 'conserving': 1 'Productive': 1 'into': 1 '‘We': 1 'Driven': 1 'Victims': 1 'Norman': 1 'Today&rsquo;s': 2 'User': 1 'Come': 1 '3600': 1 'link': 1 'repeatedly': 1 'Opinionator': 1 'We’ve': 1 'up': 2 'Books': 3 'Gunman': 1 'window.magnum.processFlags([\"limitFabrikSave\",\"moreFollowSuggestions\",\"unfollowComments\",\"allTheEmphases\",\"videoVHSCover\",\"videoVHSHomepageCover\",\"videoVHSHomepageNewControls\",\"videoVHSNewControls\",\"videoVHSEmbeddedOnly\",\"additionalOpinionRegions\",\"hpViewability\",\"freeTrial\",\"hpPrototype\",\"useCollectionApiForWell\",\"enableFlexFrameAds\",\"weatherLocation\",\"fabrikWebsocketsOnly\",\"NYTExperiment\",\"hpRealEstateAd\",\"jitterbug\",\"updatedVideoPromoSmall\",\"videoEmbed360\",\"PersonalizationApiUpdate\",\"globalBriefings\",\"removeInternationalEdition\",\"clientSideABRA': 1 'KETCHAM': 1 'influence': 1 'To': 1 'Attack': 1 'reservoirs': 1 'New': 11 'Upshot': 1 'Manhattan': 1 'Map': 1 'May': 2 'backs': 1 'Whispers': 1 'Student': 1 'income': 1 'pageManager': 1 'Case': 3 'Gender': 1 'AM': 10 'breasts': 1 'helping': 1 'Technology': 2 'Making': 1 'Documentary': 1 'sides': 1 '8:13': 1 'land': 1 'Wearables': 2 'Weddings': 1 'notify.addEventListener('keyup',function': 1 'An': 1 '2000': 2 'At': 1 'Village': 2 'Newsletter': 1 'Sell': 1 'MIKE': 2 'Today's': 3 'Department': 1 'Dodge': 1 'Slows': 1 'Business': 4 'Step': 1 'Reigns': 1 'Words': 1 'Not': 8 'Nov': 1 'Now': 3 'Fixes': 1 'Candy': 1 'Wheels': 2 'Effort': 1 'button': 1 'try': 1 'Starr’s': 1 'Index': 2 'HICKS': 1 'Interviews': 1 'Long': 1 'video': 2 'SEAN': 1 'Sections': 4 'Alan': 1 'Assault': 1 'obvious': 1 'America': 1 'Publisher': 2 'Created': 1 'amounts': 1 'Up': 4 'believed': 1 'explore': 1 'let': 1 'Chinese': 1 '5:00': 1 'Alien': 1 'if(form': 1 'Arabia': 1 'Arabic': 1 'Bid': 1 '27)+n[4]+(s[f]=f': 1 'PADNANI': 1 'Greenwich': 1 'FX': 1 'Leading': 1 'Opinion': 12 'Multimedia': 2 'Pigeon': 1 'Contributing': 1 'Motivated': 1 'Sold': 1 '“better': 1 'next': 1 'Lens': 2 'Matters': 1 'doubt': 1 'Lane': 1 'dentists': 1 'BARSTOW': 1 'started': 1 'Plain': 1 'Gun': 2 'Editorial': 4 'women': 1 'Feedback': 1 'smarter-living': 1 'this': 1 'Video': 7 'Traveler': 1 'Scared': 1 'notify.getAttribute('placeholder': 1 'control': 1 'Strapped': 1 'Police': 1 'Gannett': 2 'tax': 2 'ingest': 1 'Clintons’': 1 'Commutes': 1 'vibe': 1 'Molly': 1 'Emails': 2 '2|15]=p<<3;c': 1 'Nightclub': 1 'Letters': 1 'Apple': 1 '‘Going': 1 'o=a[n];o&&o[2]?r(\"ab-expose\",n,o[0],e):e&&t.setTimeout(function(){e(null)},0)},n}(this': 1 'Greece': 1 'Politics': 7 'Gaze’': 2 'Abedin': 1 'Quick': 1 'Translate': 1 'Body': 1 'Fairly': 1 'Benefactor': 1 'Brooks': 1 'emails': 1 '2016': 4 'bolder': 1 'Car': 1 'Loses': 1 'Can': 5 'Gobbledygook': 1 'Strands': 1 'day': 1 'presidential': 1 'Supreme': 1 'Pro': 1 'World': 4 'Replica': 1 'Arts': 6 'From': 5 'It’s': 4 'society': 1 '88': 1 '89': 1 'Agent': 1 '‘How': 1 '82': 2 '85': 1 'https://static01.nyt.com/js/mtr': 1 'China': 1 'Breast': 2 'attrClass.replace(reHide': 2 'RUSS': 1 'contentCollection': 1 'supports': 1 'Tue': 1 'Grave': 1 'This': 5 'JACK': 1 'Corrections': 1 'Meet': 1 'Topics': 1 'times': 1 'Currency': 1 'n.reportExposure=function(n,e){var': 1 'Review': 6 'powerful': 1 'Forecast': 2 'site-index-branding-link': 1 'North': 2 'Contracts': 1 'their': 2 'enforcement': 1 'reflecting': 1 'foundation/views/page-manager': 1 'Leonhardt': 1 'Thiel': 1 'Edition': 1 'Upscale': 1 'Peter': 1 'Information': 2 'false': 1 'Pay': 1 'Other': 1 'have': 3 'need': 1 'documents': 1 'testTime.toUTCString().replace': 1 'After': 2 'Mekasi': 1 'previewTime=(\\d': 1 'tactic': 1 'Moll': 1 '‘Go': 1 'BUETTNER': 1 'Blogs': 1 'who': 1 'ZERNIKE': 1 'window.NYTD.Global': 1 'Leaked': 1 'takes': 1 'url': 1 'timedBriefingHide/i': 1 'Some': 1 'Pursuits': 1 'Donald': 6 'its': 1 'Goal': 1 'Melinda': 1 'twice\");for(i=o,a={},u=0;u<n.length;u++)f=n[u],c=f[0],s=e(h,f)||[],a[c]=s,s[1]&&l.push(c.replace(/[^\\w-]/g)+\"=\"+(\"\"+s[1]).replace(/[^\\w-]/g)),s[2]&&r(\"ab-alloc\",c,s[1]);l.length&&t.document.documentElement.setAttribute(\"data-nyt-ab\",l.join': 1 'Under': 1 'Worth': 1 'setTimeout(function': 1 'Lessee': 1 'cache': 1 'Update': 1 'Guide': 3 'York': 7 'opts.variation': 1 'local': 1 'Homes': 3 'watching': 1 'I.R.S': 1 'Keep': 1 '0,i=0,c=0;r=a[i++];)if(e<(c+=r[0]))return': 1 'Humboldt': 1 'MULLIN.&nbsp;Photo': 1 'whether': 1 'she': 1 'contain': 1 'Broadway': 1 'endTime': 4 'Synagogue': 1 'Australia’s': 1 'officials': 1 'Passion': 2 'operated': 1 'by&nbsp;Tyler': 1 'widget.getElementsByTagName('div')[0': 1 'favor': 1 'email': 5 'Kitchen': 1 'industries': 1 'Forum': 1 'agencies': 1 'Silicon': 2 'hits': 1 'Design': 1 'Campus': 1 'notify.setAttribute('placeholder',newtext': 1 'https://static01.nyt.com/video/vhs/build/vhs-2.x.min': 1 'Log': 1 'Rejects': 1 'BRODY': 1 'Music': 2 'table': 1 'winning': 1 'Regrets': 1 'Get': 3 'COHEN': 1 'baseUrl': 1 'Frills': 1 'Brooklyn': 5 'Obituaries': 2 'Nytimes.com': 1 'nyt-a=([^;]*)/)||[])[2];if(a)throw': 2 'now.getMinutes': 1 'Marlon': 1 'Using': 1 'Navigation': 7 'Mistake': 2 'Podcast': 1 'Halloween': 1 'will': 2 'Battle': 1 'Hiding': 1 'https://a1.nyt.com/assets/homepage/20161031-131206/images/foundation/logos': 1 'MORE': 1 'Confidence': 1 'd{2}:\\d{2': 1 'Street-Smart': 1 'Strike': 1 'You': 6 'Garden': 1 'Governing': 1 'Accuse': 1 'gets': 1 'Mosul': 2 'Real': 4 'attrStart': 1 'Potatoes': 1 'reporting': 1 'Can’t': 1 'Grimes': 2 'audit': 1 'i': 2 'Pierre': 1 'Need': 2 'Access': 1 'TIM': 1 'Sunday': 2 'https://static01.nyt.com/js2/build/video/2.0/videofactoryrequire': 1 'Be': 3 'Far': 1 'Company': 1 'Friday': 1 'Despite': 1 'By': 14 'Abductees': 1 'government': 1 '‘Atlanta’': 1 'community': 1 'Newspaper': 2 'Fashion': 5 'if(notify': 1 'success': 1 'CRAIG': 1 'journalism': 1 'Returns': 1 'candy': 1 'war-torn': 1 'become': 2 'Quit': 1 'Quiz': 2 'Crossword': 4 'Editor': 2 'choosing': 1 'Breach': 2 'Inflame': 1 '1812’': 1 'Inside': 1 'Play': 2 'Us': 4 '‘Molly': 1 'offset': 2 'Newfoundland': 3 'Kendall': 1 'rare': 1 'Zcash': 1 'Americans': 1 'N.Y.C': 3 'Questions': 2 'Alerts': 1 'Two': 1 'Jousts': 1 'Iraqi': 2 'weather': 1 'Thousands': 1 'Mountains': 1 'accused': 1 'Listening': 1 'var': 23 'November': 1 'function': 10 'require(['jquery/nyt': 1 'HIGGINS': 1 'dataType': 1 'Science': 4 'but': 8 'he': 1 'places': 1 'Wall': 1 'signed': 1 'Insurance': 1 '»': 3 'Pollster': 1 'Writer': 1 'Weren’t': 1 'Delivery': 1 'other': 1 'Know': 1 'Phase': 1 'chance': 1 'Page': 1 'Baltimore': 1 'Subscriber.setup': 1 '—': 2 'Site': 10 'maxHeight': 1 'al-Assad': 2 'Contributor': 3 'Hercules’': 1\n"
     ]
    }
   ],
   "source": [
    "import urllib2\n",
    "import string\n",
    "\n",
    "def WordsCount(url):\n",
    "    source = urllib2.urlopen(url).read()\n",
    "    words = []\n",
    "    start = end = 0     # start: 단어의 첫 위치를 가리킴 end: 단어의 끝+1을 가리킴\n",
    "    i = 0\n",
    "    while i < len(source):\n",
    "        if(source[i] == '>'):\n",
    "            start = i + 1\n",
    "        if(source[i] == '<'):\n",
    "            end = i\n",
    "            if(source[i-2:i+1] == '//<'):\n",
    "                while source[i:i+3] != '//]':\n",
    "                    i += 1\n",
    "                i += 2\n",
    "                start = i + 1\n",
    "            elif(source[i+1:i+6] == 'style'):\n",
    "                while source[i:i+6] != '/style':\n",
    "                    i += 1\n",
    "                i += 5\n",
    "                start = i + 1\n",
    "            elif(source[i+1:i+9] == '!doctype' or source[i+1:i+9] == '!DOCTYPE'):\n",
    "                while source[i:i+4] != 'html':\n",
    "                    i += 1\n",
    "                i += 3\n",
    "                start = i + 1\n",
    "            elif(source[i+1] == '!'):            \n",
    "                while source[i:i+3] != '-->':\n",
    "                    i += 1\n",
    "                i += 2\n",
    "                start = i + 1\n",
    "            else:                                              # CSS가 아니라면\n",
    "                tmp = str(source[start:end]).strip().split()   # tmp 변수에 > 다음 문자부터 < 이전 문자까지\n",
    "                for x in range(len(tmp)):                      # 공백 제거 후 공백으로 분리\n",
    "                    words.append(tmp[x])                       # words 리스트에 단어 추가\n",
    "        i += 1\n",
    "\n",
    "    i = 0\n",
    "    length = len(words)\n",
    "    while i < length:\n",
    "        words[i] = words[i].strip(string.punctuation)\n",
    "        if words[i] == '': \n",
    "            del(words[i])\n",
    "            length -= 1\n",
    "        else:\n",
    "            i += 1\n",
    "\n",
    "    wDict = {}\n",
    "    for x in range(len(words)):\n",
    "        if words[x] not in wDict:\n",
    "            wDict[words[x]] = 1\n",
    "        else:\n",
    "            wDict[words[x]] += 1\n",
    "    return wDict\n",
    "\n",
    "naverDict = WordsCount('http://naver.com/')\n",
    "daumDict = WordsCount('http://www.daum.net/')\n",
    "nytimesDict  = WordsCount('http://www.nytimes.com ')\n",
    "\n",
    "for key, value in naverDict.items():\n",
    "    print \"'\" + key + \"': \" + str(value),\n",
    "print\n",
    "for key, value in daumDict.items():\n",
    "    print \"'\" + key + \"': \" + str(value),\n",
    "print\n",
    "for key, value in nytimesDict.items():\n",
    "    print \"'\" + key + \"': \" + str(value),"
   ]
  },
  {
   "cell_type": "markdown",
   "metadata": {},
   "source": [
    "## 2. 소감\n",
    "- 박람회 참석으로 시간을 많이 쓰지 못했습니다. 죄송합니다."
   ]
  }
 ],
 "metadata": {
  "anaconda-cloud": {},
  "kernelspec": {
   "display_name": "Python [Root]",
   "language": "python",
   "name": "Python [Root]"
  },
  "language_info": {
   "codemirror_mode": {
    "name": "ipython",
    "version": 2
   },
   "file_extension": ".py",
   "mimetype": "text/x-python",
   "name": "python",
   "nbconvert_exporter": "python",
   "pygments_lexer": "ipython2",
   "version": "2.7.12"
  }
 },
 "nbformat": 4,
 "nbformat_minor": 0
}
