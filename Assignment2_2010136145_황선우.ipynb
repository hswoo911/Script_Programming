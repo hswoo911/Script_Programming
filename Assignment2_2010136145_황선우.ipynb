{
 "cells": [
  {
   "cell_type": "markdown",
   "metadata": {},
   "source": [
    "# Assignment 2 \n",
    "# 2010136145 황선우\n",
    "\n",
    "## 1. 문제 \n",
    "\n",
    "### 1) 다음 6 개의 Expression에 대해 Evaluation 결과 값을 출력하고, 해당 결과가 나온 이유에 대해 설명하시오\n",
    "- 1 and 2 and 3 and 4\n",
    "- 1 or 2 or 3 or 4\n",
    "- 1 and 2 or 3 and 4\n",
    "- (1 and 2) or (3 and 4)\n",
    "- 1 or 2 and 3 or 4\n",
    "- (1 or 2) and (3 or 4)"
   ]
  },
  {
   "cell_type": "code",
   "execution_count": 7,
   "metadata": {
    "collapsed": false
   },
   "outputs": [
    {
     "name": "stdout",
     "output_type": "stream",
     "text": [
      "4 1 2 2 1 3\n"
     ]
    }
   ],
   "source": [
    "print 1 and 2 and 3 and 4, 1 or 2 or 3 or 4, 1 and 2 or 3 and 4,\\\n",
    "(1 and 2) or (3 and 4), 1 or 2 and 3 or 4, (1 or 2) and (3 or 4)"
   ]
  },
  {
   "cell_type": "markdown",
   "metadata": {},
   "source": [
    "- 파이썬에서 0은 False로 인식하고 그외의 숫자는 True로 인식함\n",
    "- and는 양쪽 인자가 모두 True일 때 True임\n",
    "- or 는 양쪽 인자 중 하나만 True여도 True\n",
    " - 1 and 2 and 3 and 4: 모든 인자가 and로 연결되어 있으니 1부터 4까지 모두 Evaluation해야함 따라서 4\n",
    " - 1 or 2 or 3 or 4: 모든 논리연산자가 or인데 1을 Evaluation하면 True이므로 2~4는 확인하지 않아도 True임. 따라서 1\n",
    " - 1 and 2 or 3 and 4: 1과 2까지 Evaluation 했을 때 결과는 2. 이후 or연산자 때문에 나머지는 확인하지 않아도 되어 결과는 2\n",
    " - (1 and 2) or (3 and 4): (1 and 2)의 결과는 2. 이후 or연산자 때문에 나머지는 확인하지 않아도 되어 결과는 2\n",
    " - 1 or 2 and 3 or 4: 1이후 or연산자 때문에 나머지는 확인하지 않아도 되어 결과는 1\n",
    " - (1 or 2) and (3 or 4): 괄호때문에 and 양쪽의 식이 모두 Evaluation 됨. 결과적으로 1 and 3 이 되어 결과는 3"
   ]
  },
  {
   "cell_type": "markdown",
   "metadata": {},
   "source": [
    "### 2) 경로에 해당하는 문자열 1개를 입력 받아 그 안에 디렉토리 경로명과 파일명을 분리하여 리스트로 반환하는 함수 div_path(s)를 작성하시오.\n",
    "- 인자로 전달하는 문자열은 경로만 들어간다고 가정한다. \n",
    "- 각 디렉토리와 파일을 구분하는 문자는 '/'로 가정한다.\n",
    "- 반환하는 리스트의 첫번째 원소는 디렉토리이고 두번째 원소는 파일명이다.\n",
    "- 다음과 같은 실행 및 출력 결과가 도출되어야 한다.\n",
    " - div_path('/usr/local/bin/python')\n",
    "   - ['/usr/local/bin', 'python']\n",
    " - div_path('/home/chulsoo/test.txt')\n",
    "   - ['/home/chulsoo', 'test.txt']"
   ]
  },
  {
   "cell_type": "code",
   "execution_count": 61,
   "metadata": {
    "collapsed": false
   },
   "outputs": [
    {
     "name": "stdout",
     "output_type": "stream",
     "text": [
      "['/home/chulsoo', 'test.txt']\n"
     ]
    }
   ],
   "source": [
    "def div_path(s):\n",
    "    result = []    \n",
    "    index = s.rfind('/')                  # 문자의 끝에서 부터 '/'의 위치 검색\n",
    "    result.append(s[0:index])             # 마지막 '/'문자를 기준으로 경로 분리\n",
    "    result.append(s[index + 1:len(s)])\n",
    "    return result\n",
    "print div_path('/home/chulsoo/test.txt')"
   ]
  },
  {
   "cell_type": "markdown",
   "metadata": {},
   "source": [
    "### 3) 두 개의 리스트를 인자로 받아서 그 두 개의 리스트에 대한 '합집합'을 반환하는 함수 list_union(lista, listb)를 작성하시오.\n",
    "- 인자로 전달하는 리스트 2 개에는 정수값만 들어간다고 가정하자.\n",
    "- 함수 내에서 새로운 리스트를 만들어 그 리스트 내에 인자로 받은 두 리스트의 모든 원소를 넣어 반환한다.\n",
    "- 반환하는 리스트에는 절대로 중복된 원소가 들어 있으면 안된다 (집합의 조건).\n",
    "- 반환하는 리스트는 정렬이 되어 있어야 한다.\n",
    "- 다음과 같은 실행 및 출력 결과가 도출되어야 한다.\n",
    " - list_union([1, 2, 3], [1, 2, 4])\n",
    "   - [1, 2, 3, 4]\n",
    " - list_union([-10, -5, 0, -1], [100, 9, 0, 9])\n",
    "   - [-10, -5, -1, 0, 9, 100]\n",
    " - list_union([0, 1, 2], [0, 1, 2])\n",
    "   - [0, 1, 2]\n",
    "- [참고] 리스트(l) 내에 새로운 정수값 (예를 들어 10)을 넣는 방법은 l.append(10) 이다.\n",
    "- [참고] 임의의 정수값 (x)이 리스트 (l) 내에 존재하는지 판단하는 방법은 x in l 이다."
   ]
  },
  {
   "cell_type": "code",
   "execution_count": 39,
   "metadata": {
    "collapsed": false
   },
   "outputs": [
    {
     "name": "stdout",
     "output_type": "stream",
     "text": [
      "[-10, -5, -1, 0, 9, 100]\n"
     ]
    }
   ],
   "source": [
    "def list_union(a, b):\n",
    "    tmp = a + b\n",
    "    result = []\n",
    "    for x in range(len(tmp)):\n",
    "        if(tmp[x] not in result):       # 합친 리스트의 원소가 결과 리스트에 없다면\n",
    "            result.append(tmp[x])       # 결과 리스트에 추가\n",
    "    result.sort()                       # 결과 리스트 정렬\n",
    "    return result\n",
    "print list_union([-10, -5, 0, -1], [100, 9, 0, 9])"
   ]
  },
  {
   "cell_type": "markdown",
   "metadata": {},
   "source": [
    "### 프로젝트 오일러 문제 4) \n",
    "앞에서부터 읽을 때나 뒤에서부터 읽을 때나 모양이 같은 수를 대칭수(palindrome)라고 부릅니다. 두 자리 수를 곱해 만들 수 있는 대칭수 중 가장 큰 수는 9009 (= 91 × 99) 입니다. 세 자리 수를 곱해 만들 수 있는 가장 큰 대칭수는 얼마입니까?"
   ]
  },
  {
   "cell_type": "code",
   "execution_count": 12,
   "metadata": {
    "collapsed": false
   },
   "outputs": [
    {
     "name": "stdout",
     "output_type": "stream",
     "text": [
      "906609\n"
     ]
    }
   ],
   "source": [
    "results = []\n",
    "for i in range(100, 1000):\n",
    "    for j in range(100, 1000):    # 100~1000까지 모든 가능한 경우를 곱함\n",
    "        x = str(i * j)            # x에 곱한 수를 문자열로 변환\n",
    "        y = x[::-1]               # y에 x를 역순으로 저장\n",
    "        if(x == y): results.append(long(x))  # 같은지 비교하여 결과 리스트에 실수 형식으로 저장\n",
    "            \n",
    "print max(results) # 최대값 출력"
   ]
  },
  {
   "cell_type": "markdown",
   "metadata": {},
   "source": [
    "### 프로젝트 오일러 문제 5) \n",
    "1 ~ 10 사이의 어떤 수로도 나누어 떨어지는 가장 작은 수는 2520입니다.\n",
    "그러면 1 ~ 20 사이의 어떤 수로도 나누어 떨어지는 가장 작은 수는 얼마입니까?"
   ]
  },
  {
   "cell_type": "code",
   "execution_count": 13,
   "metadata": {
    "collapsed": false
   },
   "outputs": [
    {
     "name": "stdout",
     "output_type": "stream",
     "text": [
      "232792560\n"
     ]
    }
   ],
   "source": [
    "n = 20*19*18*17            # n: 1~20의 최소공배수\n",
    "x = 2                      # x: 2~20으로 변화하며 n을 나누는 수\n",
    "while x <= 20:\n",
    "    if n%x != 0:           # 나누어 떨어지지 않는 경우\n",
    "        n += 20*19*18*17   # n증가(증가폭을 넓히기 위해 20*19*18*17씩 증가)\n",
    "        x = 2              # 제수 초기화\n",
    "        continue\n",
    "    if n%x == 0:           # 나누어 떨어지는 경우\n",
    "        x += 1             # 다음 수로 나누기 위해 x증가\n",
    "print n  "
   ]
  },
  {
   "cell_type": "markdown",
   "metadata": {},
   "source": [
    "### 프로젝트 오일러 문제 6) \n",
    "- 1부터 10까지 자연수를 각각 제곱해 더하면 다음과 같습니다 (제곱의 합).\n",
    "  - 12 + 22 + ... + 102 = 385\n",
    "- 1부터 10을 먼저 더한 다음에 그 결과를 제곱하면 다음과 같습니다 (합의 제곱).\n",
    "  - (1 + 2 + ... + 10)2 = 552 = 3025\n",
    "- 따라서 1부터 10까지 자연수에 대해 \"합의 제곱\"과 \"제곱의 합\" 의 차이는 3025 - 385 = 2640 이 됩니다.  \n",
    "- 그러면 1부터 100까지 자연수에 대해 \"합의 제곱\"과 \"제곱의 합\"의 차이는 얼마입니까?"
   ]
  },
  {
   "cell_type": "code",
   "execution_count": 14,
   "metadata": {
    "collapsed": false
   },
   "outputs": [
    {
     "name": "stdout",
     "output_type": "stream",
     "text": [
      "25164150\n"
     ]
    }
   ],
   "source": [
    "SumOfSquare = SquareOfSum = 0     # 제곱의 합과 합의 제곱 초기화\n",
    "for x in range(1,101):\n",
    "    SquareOfSum += x\n",
    "SquareOfSum = pow(SquareOfSum,2)  # 합의 제곱 구함\n",
    "for y in range(1,101):\n",
    "    SumOfSquare += pow(y,2)       # 제곱의 합 구함\n",
    "print SquareOfSum-SumOfSquare     # 차이 출력"
   ]
  },
  {
   "cell_type": "markdown",
   "metadata": {
    "collapsed": true
   },
   "source": [
    "### [Incremental Project] \n",
    "웹 URL로 지정된 웹페이지를 문자열로 가져와 모든 HTML 태그를 제외한 순수 텍스트 문자열만을 걸러내고 그 순수 텍스트 문자열 안에 존재하는 단어가 총 몇개인지 출력하는 프로그램을 작성하시오."
   ]
  },
  {
   "cell_type": "code",
   "execution_count": 112,
   "metadata": {
    "collapsed": false
   },
   "outputs": [
    {
     "name": "stdout",
     "output_type": "stream",
     "text": [
      "'컴퓨터공학부' 'Schoolfun' '-' 'Study' 'and' 'Fun' '로그인' '아이디' '비밀번호' '유지' '브라우저를' '닫더라도' '로그인이' '계속' '유지될' '수' '있습니다.' '기능을' '사용할' '경우' '다음' '접속부터는' '로그인할' '필요가' '없습니다.' '단,' '게임방,' '학교' '등' '공공장소에서' '이용' '시' '개인정보가' '유출될' '있으니' '꼭' '로그아웃을' '해주세요.' '회원가입' 'ID/PW' '찾기' '한국기술교육대학교' 'Close' '소개' '구성원소개' '학사안내' '입학' '학부' '대학원' '학부광장' '자료실' '공학교육인증' '학부서비스' 'Registration' 'School' 'of' 'Computer' 'Science' 'Engineering' 'IT' '융합소프트웨어' '인력양성사업' 'CK' '(Creative' 'Korea)-I' '교육역량강화사업' '온라인' '컨텐츠' 'Online' 'Contents' 'for' 'Education' 'Capability' 'Empowerment' '교육의' '글로벌' '메카' '환영합니다!' 'IT융합분야에' '대한' '국제적인' '경쟁력' '고취' '바로가기' '컨텐츠를' '소개합니다.' '공지사항' '[특성화]' '『요코하마' '임베디드' '기술' '박람회』' '학생' '선...' '2016-10-08' '22:11' '2,3학년]' '산업체' '특강에서' '여러분의' '선배가' '삼성' '소프...' '2016-10-06' '17:20' '졸업사진' '촬영' '안내' '공지' '2016-10-05' '16:43' '[필독]' '졸업작품' '전시' '부스' '선정을' '위한' '모임' '15:58' '[특성화]『IT융합' '우수기업' '탐방' '지원』모집' '공고' '2016-10-04' '16:24' '자유게시판' 'A204' 'USB' '분실한' '분' '학부사무실에서' '찾아가세요.' '11:50' '어제' '낮에' '4공에서' '시계를' '분실했습니다' '2016-09-29' '13:37' '모의토익비를' '지원해드립니다~~^^' '2016-09-19' '09:56' '&amp;lt;2016학년도' '2학기&amp;gt;사물함신청관련' '2016-09-18' '21:10' '소프트웨어공학(02분반,' '월14~16시)' '조' '구합니다.' '2016-09-14' '22:45' '취업게시판' '세광테크(주)' '충남_중견기업_제조/Set-up,' 'PLC제어,' '...' '2016-09-30' '09:42' '(주)지란지교소프트' 'S/W테스트' '신입직원' '모집(대전)' '2016-09-26' '15:26' '(주)아이씨디' '경기_중견기업_직무별' '신입모집' '(~9/29...' '2016-09-24' '15:31' '(주)성창오토텍' '아산사업장-' 'ERP소프트웨어프로그래머' '2016-09-06' '08:56' '현대유엔아이(주)' 'SW' 'Engineer' '(이천)' '16-09-06' '2016-09-05' '16:41' 'Platum' '[타운이' '만난' '사람들' '#05]' '“글로벌' '교육' '콘텐츠의' '기준...' '2016-10-07' '15:46' '서른세살,' '‘다본다' '이사’' '서비스' '오픈' '15:29' '콘텐츠' '데모데이' '‘2016' 'Knock' 'with' 'cel’,' '오는' '13일에...' '15:22' '아산나눔재단,' '설립' '5주년' '성과' '발표' '14:35' '호창성' '더벤처스' '대표,' '팁스비리' '혐의' '1심' '무죄' '선고' '11:27' '전자신문' '[특별' '기고]사물인터넷,' '지능정보사회로의' '연결고리' '18:00' '안전처,' '재난망' '커버리지' '100%' '묘수' '찾았다' '아이폰7' '사전예약' '열기' '후끈' '16:02' '[2016' '국감]최성준' '\"요금할인' '30%,' '분리공시제' '도입' '신...' '10분기' '연속' '인터넷' '속도' '세계' '1위' '국가는?' '14:43' 'TechCrunch' 'The' 'importance' 'science' 'fiction' 'to' 'entrepren...' '2016-10-09' '08:00' 'Why' 'an' 'unhackable' 'mobile' 'phone' 'is' 'a' 'complete' 'm...' '05:00' 'Samsung' 'addresses' 'concerns' 'over' 'Galaxy' 'Note' '7' '02:40' 'method' 'in' 'Salesforce’s' 'M&A' 'madness' '02:15' 'How' 'blockchain' 'can' 'change' 'the' 'music' 'industry' '00:00' 'Back' 'Top' 'Brighter' 'Future' 'Quick' 'Navigation' '홈페이지' 'WEBMAIL' '평생교육원' '교직원' '업무' '포트폴리오' 'Campus' 'Location' 'Contact' 'CSE' 'Facebook' 'Twitter' 'Google' 'Plus' 'Linkedin' '(31253)' '충청남도' '천안시' '동남구' '병천면' '충절로' '1600' '(가전리,' '한국기술교육대학교)' 'Copyright' '©' '2015.' 'All' 'rights' 'reserved'\n",
      "\n",
      "336\n"
     ]
    }
   ],
   "source": [
    "import urllib2\n",
    "source = urllib2.urlopen(\"http://cse.koreatech.ac.kr/\").read()\n",
    "words = []\n",
    "start = end = 0\n",
    "for x in range(len(source)):\n",
    "    if(source[x] == '>'):\n",
    "        start = x + 1\n",
    "    if(source[x] == '<'):\n",
    "        end = x\n",
    "        if(source[end+1] == '/'):                          # 태그 형식이 <>텍스트</> 이므로 '<' 다음에 '/' 온다면\n",
    "            tmp = str(source[start:end]).strip().split()   # tmp 변수에 > 다음 문자부터 < 이전 문자까지\n",
    "            for i in range(len(tmp)):                      # 공백 제거 후 공백으로 분리\n",
    "                words.append(tmp[i])                       # words 리스트에 단어 추가\n",
    "\n",
    "results = []\n",
    "for y in range(len(words)):         # 중복단어 제외하여 results 리스트에 저장\n",
    "    if(words[y] not in results):\n",
    "        results.append(words[y])\n",
    "       \n",
    "for y in range(len(results)):\n",
    "    print \"\"\"'\"\"\" + results[y] + \"\"\"'\"\"\",\n",
    "    \n",
    "print\n",
    "print\n",
    "print len(results)"
   ]
  },
  {
   "cell_type": "markdown",
   "metadata": {},
   "source": [
    "## 2. 소감\n",
    "- 이번 과제를 통해 여러 문자열 메소드를 실습해 볼 수 있었다. 파이썬이 제공하는 문자열 처리 메소드가 기존 다른 언어들 보다 다양하고 편리하여 과제를 수월하게 할 수 있었다."
   ]
  }
 ],
 "metadata": {
  "anaconda-cloud": {},
  "kernelspec": {
   "display_name": "Python [Root]",
   "language": "python",
   "name": "Python [Root]"
  },
  "language_info": {
   "codemirror_mode": {
    "name": "ipython",
    "version": 2
   },
   "file_extension": ".py",
   "mimetype": "text/x-python",
   "name": "python",
   "nbconvert_exporter": "python",
   "pygments_lexer": "ipython2",
   "version": "2.7.12"
  }
 },
 "nbformat": 4,
 "nbformat_minor": 0
}
